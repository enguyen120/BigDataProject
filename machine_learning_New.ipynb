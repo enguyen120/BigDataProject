{
  "nbformat": 4,
  "nbformat_minor": 0,
  "metadata": {
    "colab": {
      "provenance": [],
      "include_colab_link": true
    },
    "kernelspec": {
      "name": "python3",
      "display_name": "Python 3"
    },
    "language_info": {
      "name": "python"
    }
  },
  "cells": [
    {
      "cell_type": "markdown",
      "metadata": {
        "id": "view-in-github",
        "colab_type": "text"
      },
      "source": [
        "<a href=\"https://colab.research.google.com/github/enguyen120/BigDataProject/blob/main/machine_learning_New.ipynb\" target=\"_parent\"><img src=\"https://colab.research.google.com/assets/colab-badge.svg\" alt=\"Open In Colab\"/></a>"
      ]
    },
    {
      "cell_type": "markdown",
      "source": [
        "# Get Data"
      ],
      "metadata": {
        "id": "FHeXA6mmPZM4"
      }
    },
    {
      "cell_type": "code",
      "execution_count": null,
      "metadata": {
        "id": "DN0Msl7CTxxQ"
      },
      "outputs": [],
      "source": [
        "# imports\n",
        "from sklearn.ensemble import RandomForestClassifier\n",
        "from sklearn.model_selection import train_test_split\n",
        "from sklearn.model_selection import StratifiedKFold\n",
        "from sklearn.linear_model import LogisticRegression\n",
        "from sklearn.metrics import accuracy_score\n",
        "from sklearn import preprocessing\n",
        "from matplotlib.ticker import NullFormatter\n",
        "from sklearn import utils\n",
        "from sklearn import metrics\n",
        "import matplotlib.pyplot as plt \n",
        "import pandas as pd\n",
        "import numpy as np"
      ]
    },
    {
      "cell_type": "code",
      "source": [
        "# Mount GDrive\n",
        "from google.colab import drive\n",
        "drive.mount('/content/drive')"
      ],
      "metadata": {
        "id": "SuDH9IJxYbqi",
        "colab": {
          "base_uri": "https://localhost:8080/"
        },
        "outputId": "c7300af8-73ad-4085-c0ed-e48e73b0caa8"
      },
      "execution_count": null,
      "outputs": [
        {
          "output_type": "stream",
          "name": "stdout",
          "text": [
            "Mounted at /content/drive\n"
          ]
        }
      ]
    },
    {
      "cell_type": "code",
      "source": [
        "# Read data\n",
        "df = pd.read_csv('/content/drive/MyDrive/Schoolwork/Big Data Final/refactor/refactored_tfdif.csv')\n",
        "# df = pd.read_csv('/content/drive/MyDrive/Big Data Final/refactor/refactored_tfidf.csv')"
      ],
      "metadata": {
        "id": "10LuylSeYfvO"
      },
      "execution_count": null,
      "outputs": []
    },
    {
      "cell_type": "code",
      "source": [
        "df.head()"
      ],
      "metadata": {
        "id": "YyR7rC5s7Sza",
        "colab": {
          "base_uri": "https://localhost:8080/",
          "height": 317
        },
        "outputId": "e42ba5fc-d0b3-48ee-eee5-0e8c612a3292"
      },
      "execution_count": null,
      "outputs": [
        {
          "output_type": "execute_result",
          "data": {
            "text/plain": [
              "   Unnamed: 0  aaron  aaronkleinshow   ab  aback  abadi  abandon  abandoned  \\\n",
              "0           0    0.0             0.0  0.0    0.0    0.0      0.0   0.015958   \n",
              "1           1    0.0             0.0  0.0    0.0    0.0      0.0   0.000000   \n",
              "2           2    0.0             0.0  0.0    0.0    0.0      0.0   0.000000   \n",
              "3           3    0.0             0.0  0.0    0.0    0.0      0.0   0.019500   \n",
              "4           4    0.0             0.0  0.0    0.0    0.0      0.0   0.000000   \n",
              "\n",
              "   abandoning  abandonment  ...  zip  zombie  zone  zoo  zoom  zooming  \\\n",
              "0         0.0          0.0  ...  0.0     0.0   0.0  0.0   0.0      0.0   \n",
              "1         0.0          0.0  ...  0.0     0.0   0.0  0.0   0.0      0.0   \n",
              "2         0.0          0.0  ...  0.0     0.0   0.0  0.0   0.0      0.0   \n",
              "3         0.0          0.0  ...  0.0     0.0   0.0  0.0   0.0      0.0   \n",
              "4         0.0          0.0  ...  0.0     0.0   0.0  0.0   0.0      0.0   \n",
              "\n",
              "   zucker  zuckerberg  leftness  article_source  \n",
              "0     0.0         0.0       1.0  New York Times  \n",
              "1     0.0         0.0       1.0  New York Times  \n",
              "2     0.0         0.0       1.0  New York Times  \n",
              "3     0.0         0.0       1.0  New York Times  \n",
              "4     0.0         0.0       1.0  New York Times  \n",
              "\n",
              "[5 rows x 16728 columns]"
            ],
            "text/html": [
              "\n",
              "  <div id=\"df-a719b895-b0f0-42c3-ac23-1923b647b42c\">\n",
              "    <div class=\"colab-df-container\">\n",
              "      <div>\n",
              "<style scoped>\n",
              "    .dataframe tbody tr th:only-of-type {\n",
              "        vertical-align: middle;\n",
              "    }\n",
              "\n",
              "    .dataframe tbody tr th {\n",
              "        vertical-align: top;\n",
              "    }\n",
              "\n",
              "    .dataframe thead th {\n",
              "        text-align: right;\n",
              "    }\n",
              "</style>\n",
              "<table border=\"1\" class=\"dataframe\">\n",
              "  <thead>\n",
              "    <tr style=\"text-align: right;\">\n",
              "      <th></th>\n",
              "      <th>Unnamed: 0</th>\n",
              "      <th>aaron</th>\n",
              "      <th>aaronkleinshow</th>\n",
              "      <th>ab</th>\n",
              "      <th>aback</th>\n",
              "      <th>abadi</th>\n",
              "      <th>abandon</th>\n",
              "      <th>abandoned</th>\n",
              "      <th>abandoning</th>\n",
              "      <th>abandonment</th>\n",
              "      <th>...</th>\n",
              "      <th>zip</th>\n",
              "      <th>zombie</th>\n",
              "      <th>zone</th>\n",
              "      <th>zoo</th>\n",
              "      <th>zoom</th>\n",
              "      <th>zooming</th>\n",
              "      <th>zucker</th>\n",
              "      <th>zuckerberg</th>\n",
              "      <th>leftness</th>\n",
              "      <th>article_source</th>\n",
              "    </tr>\n",
              "  </thead>\n",
              "  <tbody>\n",
              "    <tr>\n",
              "      <th>0</th>\n",
              "      <td>0</td>\n",
              "      <td>0.0</td>\n",
              "      <td>0.0</td>\n",
              "      <td>0.0</td>\n",
              "      <td>0.0</td>\n",
              "      <td>0.0</td>\n",
              "      <td>0.0</td>\n",
              "      <td>0.015958</td>\n",
              "      <td>0.0</td>\n",
              "      <td>0.0</td>\n",
              "      <td>...</td>\n",
              "      <td>0.0</td>\n",
              "      <td>0.0</td>\n",
              "      <td>0.0</td>\n",
              "      <td>0.0</td>\n",
              "      <td>0.0</td>\n",
              "      <td>0.0</td>\n",
              "      <td>0.0</td>\n",
              "      <td>0.0</td>\n",
              "      <td>1.0</td>\n",
              "      <td>New York Times</td>\n",
              "    </tr>\n",
              "    <tr>\n",
              "      <th>1</th>\n",
              "      <td>1</td>\n",
              "      <td>0.0</td>\n",
              "      <td>0.0</td>\n",
              "      <td>0.0</td>\n",
              "      <td>0.0</td>\n",
              "      <td>0.0</td>\n",
              "      <td>0.0</td>\n",
              "      <td>0.000000</td>\n",
              "      <td>0.0</td>\n",
              "      <td>0.0</td>\n",
              "      <td>...</td>\n",
              "      <td>0.0</td>\n",
              "      <td>0.0</td>\n",
              "      <td>0.0</td>\n",
              "      <td>0.0</td>\n",
              "      <td>0.0</td>\n",
              "      <td>0.0</td>\n",
              "      <td>0.0</td>\n",
              "      <td>0.0</td>\n",
              "      <td>1.0</td>\n",
              "      <td>New York Times</td>\n",
              "    </tr>\n",
              "    <tr>\n",
              "      <th>2</th>\n",
              "      <td>2</td>\n",
              "      <td>0.0</td>\n",
              "      <td>0.0</td>\n",
              "      <td>0.0</td>\n",
              "      <td>0.0</td>\n",
              "      <td>0.0</td>\n",
              "      <td>0.0</td>\n",
              "      <td>0.000000</td>\n",
              "      <td>0.0</td>\n",
              "      <td>0.0</td>\n",
              "      <td>...</td>\n",
              "      <td>0.0</td>\n",
              "      <td>0.0</td>\n",
              "      <td>0.0</td>\n",
              "      <td>0.0</td>\n",
              "      <td>0.0</td>\n",
              "      <td>0.0</td>\n",
              "      <td>0.0</td>\n",
              "      <td>0.0</td>\n",
              "      <td>1.0</td>\n",
              "      <td>New York Times</td>\n",
              "    </tr>\n",
              "    <tr>\n",
              "      <th>3</th>\n",
              "      <td>3</td>\n",
              "      <td>0.0</td>\n",
              "      <td>0.0</td>\n",
              "      <td>0.0</td>\n",
              "      <td>0.0</td>\n",
              "      <td>0.0</td>\n",
              "      <td>0.0</td>\n",
              "      <td>0.019500</td>\n",
              "      <td>0.0</td>\n",
              "      <td>0.0</td>\n",
              "      <td>...</td>\n",
              "      <td>0.0</td>\n",
              "      <td>0.0</td>\n",
              "      <td>0.0</td>\n",
              "      <td>0.0</td>\n",
              "      <td>0.0</td>\n",
              "      <td>0.0</td>\n",
              "      <td>0.0</td>\n",
              "      <td>0.0</td>\n",
              "      <td>1.0</td>\n",
              "      <td>New York Times</td>\n",
              "    </tr>\n",
              "    <tr>\n",
              "      <th>4</th>\n",
              "      <td>4</td>\n",
              "      <td>0.0</td>\n",
              "      <td>0.0</td>\n",
              "      <td>0.0</td>\n",
              "      <td>0.0</td>\n",
              "      <td>0.0</td>\n",
              "      <td>0.0</td>\n",
              "      <td>0.000000</td>\n",
              "      <td>0.0</td>\n",
              "      <td>0.0</td>\n",
              "      <td>...</td>\n",
              "      <td>0.0</td>\n",
              "      <td>0.0</td>\n",
              "      <td>0.0</td>\n",
              "      <td>0.0</td>\n",
              "      <td>0.0</td>\n",
              "      <td>0.0</td>\n",
              "      <td>0.0</td>\n",
              "      <td>0.0</td>\n",
              "      <td>1.0</td>\n",
              "      <td>New York Times</td>\n",
              "    </tr>\n",
              "  </tbody>\n",
              "</table>\n",
              "<p>5 rows × 16728 columns</p>\n",
              "</div>\n",
              "      <button class=\"colab-df-convert\" onclick=\"convertToInteractive('df-a719b895-b0f0-42c3-ac23-1923b647b42c')\"\n",
              "              title=\"Convert this dataframe to an interactive table.\"\n",
              "              style=\"display:none;\">\n",
              "        \n",
              "  <svg xmlns=\"http://www.w3.org/2000/svg\" height=\"24px\"viewBox=\"0 0 24 24\"\n",
              "       width=\"24px\">\n",
              "    <path d=\"M0 0h24v24H0V0z\" fill=\"none\"/>\n",
              "    <path d=\"M18.56 5.44l.94 2.06.94-2.06 2.06-.94-2.06-.94-.94-2.06-.94 2.06-2.06.94zm-11 1L8.5 8.5l.94-2.06 2.06-.94-2.06-.94L8.5 2.5l-.94 2.06-2.06.94zm10 10l.94 2.06.94-2.06 2.06-.94-2.06-.94-.94-2.06-.94 2.06-2.06.94z\"/><path d=\"M17.41 7.96l-1.37-1.37c-.4-.4-.92-.59-1.43-.59-.52 0-1.04.2-1.43.59L10.3 9.45l-7.72 7.72c-.78.78-.78 2.05 0 2.83L4 21.41c.39.39.9.59 1.41.59.51 0 1.02-.2 1.41-.59l7.78-7.78 2.81-2.81c.8-.78.8-2.07 0-2.86zM5.41 20L4 18.59l7.72-7.72 1.47 1.35L5.41 20z\"/>\n",
              "  </svg>\n",
              "      </button>\n",
              "      \n",
              "  <style>\n",
              "    .colab-df-container {\n",
              "      display:flex;\n",
              "      flex-wrap:wrap;\n",
              "      gap: 12px;\n",
              "    }\n",
              "\n",
              "    .colab-df-convert {\n",
              "      background-color: #E8F0FE;\n",
              "      border: none;\n",
              "      border-radius: 50%;\n",
              "      cursor: pointer;\n",
              "      display: none;\n",
              "      fill: #1967D2;\n",
              "      height: 32px;\n",
              "      padding: 0 0 0 0;\n",
              "      width: 32px;\n",
              "    }\n",
              "\n",
              "    .colab-df-convert:hover {\n",
              "      background-color: #E2EBFA;\n",
              "      box-shadow: 0px 1px 2px rgba(60, 64, 67, 0.3), 0px 1px 3px 1px rgba(60, 64, 67, 0.15);\n",
              "      fill: #174EA6;\n",
              "    }\n",
              "\n",
              "    [theme=dark] .colab-df-convert {\n",
              "      background-color: #3B4455;\n",
              "      fill: #D2E3FC;\n",
              "    }\n",
              "\n",
              "    [theme=dark] .colab-df-convert:hover {\n",
              "      background-color: #434B5C;\n",
              "      box-shadow: 0px 1px 3px 1px rgba(0, 0, 0, 0.15);\n",
              "      filter: drop-shadow(0px 1px 2px rgba(0, 0, 0, 0.3));\n",
              "      fill: #FFFFFF;\n",
              "    }\n",
              "  </style>\n",
              "\n",
              "      <script>\n",
              "        const buttonEl =\n",
              "          document.querySelector('#df-a719b895-b0f0-42c3-ac23-1923b647b42c button.colab-df-convert');\n",
              "        buttonEl.style.display =\n",
              "          google.colab.kernel.accessAllowed ? 'block' : 'none';\n",
              "\n",
              "        async function convertToInteractive(key) {\n",
              "          const element = document.querySelector('#df-a719b895-b0f0-42c3-ac23-1923b647b42c');\n",
              "          const dataTable =\n",
              "            await google.colab.kernel.invokeFunction('convertToInteractive',\n",
              "                                                     [key], {});\n",
              "          if (!dataTable) return;\n",
              "\n",
              "          const docLinkHtml = 'Like what you see? Visit the ' +\n",
              "            '<a target=\"_blank\" href=https://colab.research.google.com/notebooks/data_table.ipynb>data table notebook</a>'\n",
              "            + ' to learn more about interactive tables.';\n",
              "          element.innerHTML = '';\n",
              "          dataTable['output_type'] = 'display_data';\n",
              "          await google.colab.output.renderOutput(dataTable, element);\n",
              "          const docLink = document.createElement('div');\n",
              "          docLink.innerHTML = docLinkHtml;\n",
              "          element.appendChild(docLink);\n",
              "        }\n",
              "      </script>\n",
              "    </div>\n",
              "  </div>\n",
              "  "
            ]
          },
          "metadata": {},
          "execution_count": 4
        }
      ]
    },
    {
      "cell_type": "markdown",
      "source": [
        "# General Analysis"
      ],
      "metadata": {
        "id": "XGX6VVHZPjsn"
      }
    },
    {
      "cell_type": "code",
      "source": [
        "# Double-check how many articles there are for each value in \"leftness\", and what % they are of total article count\n",
        "# https://stackoverflow.com/questions/44111307/python-pandas-count-rows-based-on-column\n",
        "test_df = df.groupby(['leftness'], sort=False).size().reset_index(name='Count')\n",
        "test_df['% of Total'] = (test_df['Count'] / test_df['Count'].sum()) * 100\n",
        "print(test_df)"
      ],
      "metadata": {
        "colab": {
          "base_uri": "https://localhost:8080/"
        },
        "id": "4ctZvJged-IW",
        "outputId": "db27f839-384c-44a3-e549-06fcc3bdc12a"
      },
      "execution_count": null,
      "outputs": [
        {
          "output_type": "stream",
          "name": "stdout",
          "text": [
            "   leftness  Count  % of Total\n",
            "0       1.0   4453   55.767063\n",
            "1       0.0   2700   33.813400\n",
            "2       0.5    832   10.419537\n"
          ]
        }
      ]
    },
    {
      "cell_type": "code",
      "source": [
        "# Check distribution of TF-IDF value (word importance) of the word \"Trump\" in the different articles\n",
        "# https://stackoverflow.com/questions/67157280/using-seaborn-displot-i-am-unable-to-specify-the-hue-to-separate-three-categorie\n",
        "# https://stackoverflow.com/questions/45201514/how-to-edit-a-seaborn-legend-title-and-labels-for-figure-level-functions\n",
        "# https://stackoverflow.com/questions/46173419/seaborn-change-color-according-to-hue-name \n",
        "import seaborn as sns\n",
        "g = sns.displot(df[df['trump'] > 0], x='trump', hue='leftness', \n",
        "                palette=[\"C0\", \"k\", \"C1\"], element=\"step\").set(title='Importance of the word \"Trump\"')\n",
        "# legend title\n",
        "new_title = 'Political'\n",
        "g._legend.set_title(new_title)\n",
        "# legend labels\n",
        "new_labels = ['Right', 'Center', 'Left']\n",
        "for t, l in zip(g._legend.texts, new_labels):\n",
        "    t.set_text(l)"
      ],
      "metadata": {
        "colab": {
          "base_uri": "https://localhost:8080/",
          "height": 383
        },
        "id": "loPaSuRFYxEZ",
        "outputId": "d405769c-2b9c-44f4-bd19-cb239d8a4778"
      },
      "execution_count": null,
      "outputs": [
        {
          "output_type": "display_data",
          "data": {
            "text/plain": [
              "<Figure size 411.875x360 with 1 Axes>"
            ],
            "image/png": "[encoded data removed]"
          },
          "metadata": {
            "needs_background": "light"
          }
        }
      ]
    },
    {
      "cell_type": "code",
      "source": [
        "# Check distribution of TF-IDF value (word importance) of the word \"Clinton\" in the different articles\n",
        "import seaborn as sns\n",
        "g = sns.displot(df[df['clinton'] > 0], x='clinton', hue='leftness', \n",
        "                palette=[\"C0\", \"k\", \"C1\"], element=\"step\").set(title='Importance of the word \"Clinton\"')\n",
        "# legend title\n",
        "new_title = 'Political'\n",
        "g._legend.set_title(new_title)\n",
        "# legend labels\n",
        "new_labels = ['Right', 'Center', 'Left']\n",
        "for t, l in zip(g._legend.texts, new_labels):\n",
        "    t.set_text(l)"
      ],
      "metadata": {
        "colab": {
          "base_uri": "https://localhost:8080/",
          "height": 385
        },
        "id": "PwEKSkxTb2vd",
        "outputId": "3916f9ca-5745-4f3a-9c0b-e848a662c246"
      },
      "execution_count": null,
      "outputs": [
        {
          "output_type": "display_data",
          "data": {
            "text/plain": [
              "<Figure size 411.875x360 with 1 Axes>"
            ],
            "image/png": "[encoded data removed]"
          },
          "metadata": {
            "needs_background": "light"
          }
        }
      ]
    },
    {
      "cell_type": "markdown",
      "source": [
        "# Logistic Regression - Bias"
      ],
      "metadata": {
        "id": "upJXSJAsPoMu"
      }
    },
    {
      "cell_type": "code",
      "source": [
        "# Stratified K-Fold doesn't work with multiple values in the target array,\n",
        "# so we must remove all rows with a 'leftness' value of 0.5\n",
        "x = df[df['leftness'] != 0.5]\n",
        "x = x.loc[:, ~x.columns.isin(['leftness', 'article_source', 'Unnamed: 0'])]\n",
        "y = df[df['leftness'] != 0.5]\n",
        "y = y['leftness']"
      ],
      "metadata": {
        "id": "VL9v9TDfKHtB"
      },
      "execution_count": null,
      "outputs": []
    },
    {
      "cell_type": "code",
      "source": [
        "print(x.shape, y.shape)"
      ],
      "metadata": {
        "colab": {
          "base_uri": "https://localhost:8080/"
        },
        "id": "vPGu5auuQHPP",
        "outputId": "097cb024-9f36-4f00-f026-c59dee39b5ab"
      },
      "execution_count": null,
      "outputs": [
        {
          "output_type": "stream",
          "name": "stdout",
          "text": [
            "(7153, 16725) (7153,)\n"
          ]
        }
      ]
    },
    {
      "cell_type": "code",
      "source": [
        "# create a stratified k-fold object with 10 splits\n",
        "skf = StratifiedKFold(n_splits=10, shuffle=True, random_state=1)\n",
        "# split the indices according to the fold, get data based on indices\n",
        "for train_index, test_index in skf.split(x, y):\n",
        "  x_train_fold, x_test_fold = x.iloc[train_index], x.iloc[test_index]\n",
        "  y_train_fold, y_test_fold = y.iloc[train_index], y.iloc[test_index]"
      ],
      "metadata": {
        "id": "ajxehIcPM-ui"
      },
      "execution_count": null,
      "outputs": []
    },
    {
      "cell_type": "code",
      "source": [
        "# create + train logistic regression model\n",
        "logreg = LogisticRegression()\n",
        "model = logreg.fit(x_train_fold, y_train_fold)"
      ],
      "metadata": {
        "id": "E0qaHBPF4nvC"
      },
      "execution_count": null,
      "outputs": []
    },
    {
      "cell_type": "code",
      "source": [
        "# use model to classify testing data, check model accuracy\n",
        "predictions = model.predict(x_test_fold)\n",
        "print(\"the accuracy score for our logistic regression model is \", round(accuracy_score(y_test_fold, predictions) * 100, 2), \"%\", sep='')"
      ],
      "metadata": {
        "id": "jyLANBA2OT9Y",
        "colab": {
          "base_uri": "https://localhost:8080/"
        },
        "outputId": "0f1ccdee-e5c7-41fa-d948-99af069fa396"
      },
      "execution_count": null,
      "outputs": [
        {
          "output_type": "stream",
          "name": "stdout",
          "text": [
            "the accuracy score for our logistic regression model is 81.12%\n"
          ]
        }
      ]
    },
    {
      "cell_type": "code",
      "source": [
        "# create confusion matrix \n",
        "actual = y_test_fold\n",
        "predicted = predictions\n",
        "\n",
        "confusion_matrix = metrics.confusion_matrix(actual, predicted)\n",
        "\n",
        "cm_display = metrics.ConfusionMatrixDisplay(confusion_matrix = confusion_matrix, display_labels = ['right', 'left'])\n",
        "\n",
        "cm_display.plot()\n",
        "plt.show()"
      ],
      "metadata": {
        "id": "XEz5nrJuykRV",
        "colab": {
          "base_uri": "https://localhost:8080/",
          "height": 279
        },
        "outputId": "299fac9f-8906-40e2-8dd2-6778c5ac3391"
      },
      "execution_count": null,
      "outputs": [
        {
          "output_type": "display_data",
          "data": {
            "text/plain": [
              "<Figure size 432x288 with 2 Axes>"
            ],
            "image/png": "[encoded data removed]"
          },
          "metadata": {
            "needs_background": "light"
          }
        }
      ]
    },
    {
      "cell_type": "code",
      "source": [
        "# get feature importance \n",
        "importance = model.coef_[0] \n",
        "# plot feature importance\n",
        "plt.bar([x for x in range(len(importance))], importance)\n",
        "plt.show()"
      ],
      "metadata": {
        "colab": {
          "base_uri": "https://localhost:8080/",
          "height": 266
        },
        "id": "eE-l-GXz12NT",
        "outputId": "9adf57dd-479f-4df7-df8b-ce598d76fdbf"
      },
      "execution_count": null,
      "outputs": [
        {
          "output_type": "display_data",
          "data": {
            "text/plain": [
              "<Figure size 432x288 with 1 Axes>"
            ],
            "image/png": "[encoded data removed]"
          },
          "metadata": {
            "needs_background": "light"
          }
        }
      ]
    },
    {
      "cell_type": "code",
      "source": [
        "# find most + least important features (both name + importance)\n",
        "feat_imp_zip = zip(model.feature_names_in_, model.coef_[0])\n",
        "important_features = sorted(tuple(feat_imp_zip), key = lambda x: abs(x[1]), reverse=True)\n",
        "print(\"Most important 10 features\")\n",
        "print(\"\\t\", \"\\n\\t\".join([str(x) for x in important_features[0:10]]), sep = '')\n",
        "print(\"\\n\")\n",
        "print(\"Least important 10 features\")\n",
        "print(\"\\t\", \"\\n\\t\".join([str(x) for x in important_features[-10:]]), sep = '' )"
      ],
      "metadata": {
        "colab": {
          "base_uri": "https://localhost:8080/"
        },
        "id": "J-tWnlHUTSP2",
        "outputId": "296287ee-33fd-4271-f7f1-7e6d4048d551"
      },
      "execution_count": null,
      "outputs": [
        {
          "output_type": "stream",
          "name": "stdout",
          "text": [
            "Most important 10 features\n",
            "\t('breitbart', -5.306806982034431)\n",
            "\t('follow', -4.64292371525119)\n",
            "\t('fox', -3.7617111683186772)\n",
            "\t('cnn', 3.7045138017588015)\n",
            "\t('prediction', -3.3611188336224194)\n",
            "\t('percent', -3.3452453305138596)\n",
            "\t('mr', 3.0438166852549045)\n",
            "\t('npr', 2.9099418760226596)\n",
            "\t('twitter', -2.703878301030436)\n",
            "\t('map', -2.70057515081719)\n",
            "\n",
            "\n",
            "Least important 10 features\n",
            "\t('swamynathan', 0.0)\n",
            "\t('tillerson', 0.0)\n",
            "\t('vantiv', 0.0)\n",
            "\t('volz', 0.0)\n",
            "\t('walcott', 0.0)\n",
            "\t('worldpay', 0.0)\n",
            "\t('xiaomi', 0.0)\n",
            "\t('yashaswini', 0.0)\n",
            "\t('yt', 0.0)\n",
            "\t('zieminski', 0.0)\n"
          ]
        }
      ]
    },
    {
      "cell_type": "markdown",
      "source": [
        "# Random Forest Model - Bias"
      ],
      "metadata": {
        "id": "AX0OoizoQUTB"
      }
    },
    {
      "cell_type": "code",
      "source": [
        "# random forest model \n",
        "rfc = RandomForestClassifier()\n",
        "forest_model = rfc.fit(x_train_fold, y_train_fold)"
      ],
      "metadata": {
        "id": "D1cOldQ0YY__"
      },
      "execution_count": null,
      "outputs": []
    },
    {
      "cell_type": "code",
      "source": [
        "predictions1 = forest_model.predict(x_test_fold)\n",
        "# accuracy score --> how accurate is our model in predicting the leftness of an article\n",
        "print(\"the accuracy score for our random forest is \", round(accuracy_score(y_test_fold, predictions1) * 100, 2), \"%\", sep='')"
      ],
      "metadata": {
        "id": "1z_4ZMAZOHiu",
        "colab": {
          "base_uri": "https://localhost:8080/"
        },
        "outputId": "7a54ba66-eb37-4555-c2f8-96d4b52e366c"
      },
      "execution_count": null,
      "outputs": [
        {
          "output_type": "stream",
          "name": "stdout",
          "text": [
            "the accuracy score for our random forest is 77.76%\n"
          ]
        }
      ]
    },
    {
      "cell_type": "code",
      "source": [
        "# confusion matrix \n",
        "actual = y_test_fold\n",
        "predicted = predictions1\n",
        "\n",
        "confusion_matrix = metrics.confusion_matrix(actual, predicted)\n",
        "\n",
        "cm_display = metrics.ConfusionMatrixDisplay(confusion_matrix = confusion_matrix, display_labels = ['right', 'left'])\n",
        "\n",
        "cm_display.plot()\n",
        "plt.show()"
      ],
      "metadata": {
        "colab": {
          "base_uri": "https://localhost:8080/",
          "height": 279
        },
        "id": "Wt6YO3kaUigQ",
        "outputId": "ae28d772-b230-486e-9480-d3a3840594f5"
      },
      "execution_count": null,
      "outputs": [
        {
          "output_type": "display_data",
          "data": {
            "text/plain": [
              "<Figure size 432x288 with 2 Axes>"
            ],
            "image/png": "[encoded data removed]"
          },
          "metadata": {
            "needs_background": "light"
          }
        }
      ]
    },
    {
      "cell_type": "code",
      "source": [
        "# feature importance \n",
        "forest_importance = forest_model.feature_importances_\n",
        "# plot feature importance\n",
        "plt.bar([x for x in range(len(forest_importance))], forest_importance)\n",
        "plt.show()"
      ],
      "metadata": {
        "colab": {
          "base_uri": "https://localhost:8080/",
          "height": 265
        },
        "id": "vDjlF18NwWqg",
        "outputId": "0426165c-b01a-4268-b429-f26e303baddb"
      },
      "execution_count": null,
      "outputs": [
        {
          "output_type": "display_data",
          "data": {
            "text/plain": [
              "<Figure size 432x288 with 1 Axes>"
            ],
            "image/png": "[encoded data removed]"
          },
          "metadata": {
            "needs_background": "light"
          }
        }
      ]
    },
    {
      "cell_type": "code",
      "source": [
        "# find most + least important features (both name + importance)\n",
        "forest_feat_imp_zip = zip(forest_model.feature_names_in_, forest_model.feature_importances_)\n",
        "forest_important_features = sorted(tuple(forest_feat_imp_zip), key = lambda x: abs(x[1]), reverse=True)\n",
        "print(\"Most important 10 features\")\n",
        "print(\"\\t\", \"\\n\\t\".join([str(x) for x in forest_important_features[0:10]]), sep = '')\n",
        "print(\"\\n\")\n",
        "print(\"Least important 10 features\")\n",
        "print(\"\\t\", \"\\n\\t\".join([str(x) for x in forest_important_features[-10:]]), sep = '' )"
      ],
      "metadata": {
        "colab": {
          "base_uri": "https://localhost:8080/"
        },
        "id": "rO9p5F9dwrDG",
        "outputId": "b64a84ef-2b28-442f-bd39-c9b3482e33e3"
      },
      "execution_count": null,
      "outputs": [
        {
          "output_type": "stream",
          "name": "stdout",
          "text": [
            "Most important 10 features\n",
            "\t('follow', 0.010847651300438809)\n",
            "\t('breitbart', 0.010787164083514428)\n",
            "\t('twitter', 0.007622907518721526)\n",
            "\t('cnn', 0.004558850717966741)\n",
            "\t('fox', 0.004025414422017306)\n",
            "\t('prediction', 0.003713874501682345)\n",
            "\t('like', 0.003279086794815597)\n",
            "\t('time', 0.003229275830119046)\n",
            "\t('projection', 0.0031398204126973465)\n",
            "\t('map', 0.003127812074233638)\n",
            "\n",
            "\n",
            "Least important 10 features\n",
            "\t('zeitgeist', 0.0)\n",
            "\t('zengerle', 0.0)\n",
            "\t('zeroed', 0.0)\n",
            "\t('zhang', 0.0)\n",
            "\t('zieminski', 0.0)\n",
            "\t('zika', 0.0)\n",
            "\t('zimbabwe', 0.0)\n",
            "\t('zip', 0.0)\n",
            "\t('zoom', 0.0)\n",
            "\t('zooming', 0.0)\n"
          ]
        }
      ]
    }
  ]
}