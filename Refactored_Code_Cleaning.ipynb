{
  "nbformat": 4,
  "nbformat_minor": 0,
  "metadata": {
    "colab": {
      "provenance": [],
      "authorship_tag": "ABX9TyOk/V2gVYhiI2Ak3QaXbzyC",
      "include_colab_link": true
    },
    "kernelspec": {
      "name": "python3",
      "display_name": "Python 3"
    },
    "language_info": {
      "name": "python"
    }
  },
  "cells": [
    {
      "cell_type": "markdown",
      "metadata": {
        "id": "view-in-github",
        "colab_type": "text"
      },
      "source": [
        "<a href=\"https://colab.research.google.com/github/enguyen120/BigDataProject/blob/main/Refactored_Code_Cleaning.ipynb\" target=\"_parent\"><img src=\"https://colab.research.google.com/assets/colab-badge.svg\" alt=\"Open In Colab\"/></a>"
      ]
    },
    {
      "cell_type": "markdown",
      "source": [
        "# Get ready"
      ],
      "metadata": {
        "id": "B8wlDg5FeFP9"
      }
    },
    {
      "cell_type": "code",
      "execution_count": 1,
      "metadata": {
        "id": "Bbey0BI2bv5N"
      },
      "outputs": [],
      "source": [
        "# Download data: articles1, articles2, articles3; media-bias-fc-scrape"
      ]
    },
    {
      "cell_type": "code",
      "source": [
        "# Mount GDrive\n",
        "from google.colab import drive\n",
        "drive.mount('/content/drive')"
      ],
      "metadata": {
        "colab": {
          "base_uri": "https://localhost:8080/"
        },
        "id": "7jsxDWA-b9Rs",
        "outputId": "c35fc6cf-2ada-4f5b-dbd7-e3f9bf80497f"
      },
      "execution_count": 3,
      "outputs": [
        {
          "output_type": "stream",
          "name": "stdout",
          "text": [
            "Mounted at /content/drive\n"
          ]
        }
      ]
    },
    {
      "cell_type": "code",
      "source": [
        "# import\n",
        "import os\n",
        "import pandas as pd\n",
        "import re\n",
        "import numpy as np"
      ],
      "metadata": {
        "id": "RFFxrtzadKgs"
      },
      "execution_count": 5,
      "outputs": []
    },
    {
      "cell_type": "markdown",
      "source": [
        "# Unify article data"
      ],
      "metadata": {
        "id": "kqOap82IeJ0C"
      }
    },
    {
      "cell_type": "code",
      "source": [
        "# Combine our data into one pandas df, called \"data_df\"\n",
        "# https://www.geeksforgeeks.org/how-to-merge-multiple-csv-files-into-a-single-pandas-dataframe/\n",
        "filenames = ['/content/drive/MyDrive/Schoolwork/Big Data Final/articles1.csv',\n",
        "              '/content/drive/MyDrive/Schoolwork/Big Data Final/articles2.csv',\n",
        "              '/content/drive/MyDrive/Schoolwork/Big Data Final/articles3.csv']\n",
        "data_df = pd.concat(map(pd.read_csv, filenames), ignore_index=True)"
      ],
      "metadata": {
        "id": "19HaYM-geC4b"
      },
      "execution_count": 6,
      "outputs": []
    },
    {
      "cell_type": "code",
      "source": [
        "data_df.shape"
      ],
      "metadata": {
        "colab": {
          "base_uri": "https://localhost:8080/"
        },
        "id": "bNNDMwhqfM7i",
        "outputId": "cb327755-2bdb-4086-a15a-806dbeb08fa4"
      },
      "execution_count": 7,
      "outputs": [
        {
          "output_type": "execute_result",
          "data": {
            "text/plain": [
              "(142570, 10)"
            ]
          },
          "metadata": {},
          "execution_count": 7
        }
      ]
    },
    {
      "cell_type": "code",
      "source": [
        "# select only articles that were published in the november of 2016 \n",
        "data_df = data_df[data_df.month == 11.0]\n",
        "data_df = data_df[data_df.year == 2016.0]"
      ],
      "metadata": {
        "id": "GwQm-B5dexyf"
      },
      "execution_count": 8,
      "outputs": []
    },
    {
      "cell_type": "code",
      "source": [
        "data_df"
      ],
      "metadata": {
        "colab": {
          "base_uri": "https://localhost:8080/",
          "height": 832
        },
        "id": "KoQr2boliGU7",
        "outputId": "5f54498e-e84f-49c2-92c6-1646eb24eef8"
      },
      "execution_count": 9,
      "outputs": [
        {
          "output_type": "execute_result",
          "data": {
            "text/plain": [
              "        Unnamed: 0      id                                              title  \\\n",
              "2671          2671   20256  Dilma Rousseff, Facing Impeachment in Brazil, ...   \n",
              "2679          2679   20266  Los Angeles Police Official Resigns Over Racis...   \n",
              "2689          2689   20276  Man Wrongfully Convicted of Murder Awaits His ...   \n",
              "2691          2691   20279  Ted Cruz Suspends His Campaign for President -...   \n",
              "2710          2710   20300  Republican Party Unravels Over Donald Trump’s ...   \n",
              "...            ...     ...                                                ...   \n",
              "142046      145509  217398  We weren’t exclusive. But when I saw him with ...   \n",
              "142047      145510  217399  The rules for setting your holiday table (and ...   \n",
              "142048      145511  217400  Their 5-year-old is aggressive and quick to bl...   \n",
              "142055      145518  217413  Trump is surrounding himself with generals. Th...   \n",
              "142058      145521  217416  My best trick for staying fit? Telling everyon...   \n",
              "\n",
              "            publication                             author        date  \\\n",
              "2671     New York Times                      Andrew Jacobs  2016-11-15   \n",
              "2679     New York Times                         Liam Stack  2016-11-17   \n",
              "2689     New York Times                         Alan Feuer  2016-11-14   \n",
              "2691     New York Times                  Matt Flegenheimer  2016-11-16   \n",
              "2710     New York Times  Patrick Healy and Jonathan Martin  2016-11-15   \n",
              "...                 ...                                ...         ...   \n",
              "142046  Washington Post                Danielle Sepulveres  2016-11-30   \n",
              "142047  Washington Post                       Jura Koncius  2016-11-29   \n",
              "142048  Washington Post                       Meghan Leahy  2016-11-30   \n",
              "142055  Washington Post                     Phillip Carter  2016-11-30   \n",
              "142058  Washington Post                         Mike Riggs  2016-11-30   \n",
              "\n",
              "          year  month                                                url  \\\n",
              "2671    2016.0   11.0                                                NaN   \n",
              "2679    2016.0   11.0                                                NaN   \n",
              "2689    2016.0   11.0                                                NaN   \n",
              "2691    2016.0   11.0                                                NaN   \n",
              "2710    2016.0   11.0                                                NaN   \n",
              "...        ...    ...                                                ...   \n",
              "142046  2016.0   11.0  https://web.archive.org/web/20161204005809/htt...   \n",
              "142047  2016.0   11.0  https://web.archive.org/web/20161204005809/htt...   \n",
              "142048  2016.0   11.0  https://web.archive.org/web/20161204005809/htt...   \n",
              "142055  2016.0   11.0  https://web.archive.org/web/20161205004132/htt...   \n",
              "142058  2016.0   11.0  https://web.archive.org/web/20161205004132/htt...   \n",
              "\n",
              "                                                  content  \n",
              "2671    BRASÍLIA  —   They were idealists, united in t...  \n",
              "2679    A   official in the Los Angeles County Sheriff...  \n",
              "2689    A couple of years ago, Paul Gatling, a retired...  \n",
              "2691    INDIANAPOLIS  —   Less than a month ago, Senat...  \n",
              "2710    By seizing the Republican presidential nominat...  \n",
              "...                                                   ...  \n",
              "142046       “Are you really heartbroken or is your eg...  \n",
              "142047   Setting the table is often a hurried,   chore...  \n",
              "142048    Q: We have four boys, ages 6, 5 and twin   ....  \n",
              "142055      Phillip Carter is a former Army officer an...  \n",
              "142058     The author, before and after he lost 90 lbs...  \n",
              "\n",
              "[7985 rows x 10 columns]"
            ],
            "text/html": [
              "\n",
              "  <div id=\"df-822e21ad-a4c7-4de9-9dcc-d53e04bc5734\">\n",
              "    <div class=\"colab-df-container\">\n",
              "      <div>\n",
              "<style scoped>\n",
              "    .dataframe tbody tr th:only-of-type {\n",
              "        vertical-align: middle;\n",
              "    }\n",
              "\n",
              "    .dataframe tbody tr th {\n",
              "        vertical-align: top;\n",
              "    }\n",
              "\n",
              "    .dataframe thead th {\n",
              "        text-align: right;\n",
              "    }\n",
              "</style>\n",
              "<table border=\"1\" class=\"dataframe\">\n",
              "  <thead>\n",
              "    <tr style=\"text-align: right;\">\n",
              "      <th></th>\n",
              "      <th>Unnamed: 0</th>\n",
              "      <th>id</th>\n",
              "      <th>title</th>\n",
              "      <th>publication</th>\n",
              "      <th>author</th>\n",
              "      <th>date</th>\n",
              "      <th>year</th>\n",
              "      <th>month</th>\n",
              "      <th>url</th>\n",
              "      <th>content</th>\n",
              "    </tr>\n",
              "  </thead>\n",
              "  <tbody>\n",
              "    <tr>\n",
              "      <th>2671</th>\n",
              "      <td>2671</td>\n",
              "      <td>20256</td>\n",
              "      <td>Dilma Rousseff, Facing Impeachment in Brazil, ...</td>\n",
              "      <td>New York Times</td>\n",
              "      <td>Andrew Jacobs</td>\n",
              "      <td>2016-11-15</td>\n",
              "      <td>2016.0</td>\n",
              "      <td>11.0</td>\n",
              "      <td>NaN</td>\n",
              "      <td>BRASÍLIA  —   They were idealists, united in t...</td>\n",
              "    </tr>\n",
              "    <tr>\n",
              "      <th>2679</th>\n",
              "      <td>2679</td>\n",
              "      <td>20266</td>\n",
              "      <td>Los Angeles Police Official Resigns Over Racis...</td>\n",
              "      <td>New York Times</td>\n",
              "      <td>Liam Stack</td>\n",
              "      <td>2016-11-17</td>\n",
              "      <td>2016.0</td>\n",
              "      <td>11.0</td>\n",
              "      <td>NaN</td>\n",
              "      <td>A   official in the Los Angeles County Sheriff...</td>\n",
              "    </tr>\n",
              "    <tr>\n",
              "      <th>2689</th>\n",
              "      <td>2689</td>\n",
              "      <td>20276</td>\n",
              "      <td>Man Wrongfully Convicted of Murder Awaits His ...</td>\n",
              "      <td>New York Times</td>\n",
              "      <td>Alan Feuer</td>\n",
              "      <td>2016-11-14</td>\n",
              "      <td>2016.0</td>\n",
              "      <td>11.0</td>\n",
              "      <td>NaN</td>\n",
              "      <td>A couple of years ago, Paul Gatling, a retired...</td>\n",
              "    </tr>\n",
              "    <tr>\n",
              "      <th>2691</th>\n",
              "      <td>2691</td>\n",
              "      <td>20279</td>\n",
              "      <td>Ted Cruz Suspends His Campaign for President -...</td>\n",
              "      <td>New York Times</td>\n",
              "      <td>Matt Flegenheimer</td>\n",
              "      <td>2016-11-16</td>\n",
              "      <td>2016.0</td>\n",
              "      <td>11.0</td>\n",
              "      <td>NaN</td>\n",
              "      <td>INDIANAPOLIS  —   Less than a month ago, Senat...</td>\n",
              "    </tr>\n",
              "    <tr>\n",
              "      <th>2710</th>\n",
              "      <td>2710</td>\n",
              "      <td>20300</td>\n",
              "      <td>Republican Party Unravels Over Donald Trump’s ...</td>\n",
              "      <td>New York Times</td>\n",
              "      <td>Patrick Healy and Jonathan Martin</td>\n",
              "      <td>2016-11-15</td>\n",
              "      <td>2016.0</td>\n",
              "      <td>11.0</td>\n",
              "      <td>NaN</td>\n",
              "      <td>By seizing the Republican presidential nominat...</td>\n",
              "    </tr>\n",
              "    <tr>\n",
              "      <th>...</th>\n",
              "      <td>...</td>\n",
              "      <td>...</td>\n",
              "      <td>...</td>\n",
              "      <td>...</td>\n",
              "      <td>...</td>\n",
              "      <td>...</td>\n",
              "      <td>...</td>\n",
              "      <td>...</td>\n",
              "      <td>...</td>\n",
              "      <td>...</td>\n",
              "    </tr>\n",
              "    <tr>\n",
              "      <th>142046</th>\n",
              "      <td>145509</td>\n",
              "      <td>217398</td>\n",
              "      <td>We weren’t exclusive. But when I saw him with ...</td>\n",
              "      <td>Washington Post</td>\n",
              "      <td>Danielle Sepulveres</td>\n",
              "      <td>2016-11-30</td>\n",
              "      <td>2016.0</td>\n",
              "      <td>11.0</td>\n",
              "      <td>https://web.archive.org/web/20161204005809/htt...</td>\n",
              "      <td>“Are you really heartbroken or is your eg...</td>\n",
              "    </tr>\n",
              "    <tr>\n",
              "      <th>142047</th>\n",
              "      <td>145510</td>\n",
              "      <td>217399</td>\n",
              "      <td>The rules for setting your holiday table (and ...</td>\n",
              "      <td>Washington Post</td>\n",
              "      <td>Jura Koncius</td>\n",
              "      <td>2016-11-29</td>\n",
              "      <td>2016.0</td>\n",
              "      <td>11.0</td>\n",
              "      <td>https://web.archive.org/web/20161204005809/htt...</td>\n",
              "      <td>Setting the table is often a hurried,   chore...</td>\n",
              "    </tr>\n",
              "    <tr>\n",
              "      <th>142048</th>\n",
              "      <td>145511</td>\n",
              "      <td>217400</td>\n",
              "      <td>Their 5-year-old is aggressive and quick to bl...</td>\n",
              "      <td>Washington Post</td>\n",
              "      <td>Meghan Leahy</td>\n",
              "      <td>2016-11-30</td>\n",
              "      <td>2016.0</td>\n",
              "      <td>11.0</td>\n",
              "      <td>https://web.archive.org/web/20161204005809/htt...</td>\n",
              "      <td>Q: We have four boys, ages 6, 5 and twin   ....</td>\n",
              "    </tr>\n",
              "    <tr>\n",
              "      <th>142055</th>\n",
              "      <td>145518</td>\n",
              "      <td>217413</td>\n",
              "      <td>Trump is surrounding himself with generals. Th...</td>\n",
              "      <td>Washington Post</td>\n",
              "      <td>Phillip Carter</td>\n",
              "      <td>2016-11-30</td>\n",
              "      <td>2016.0</td>\n",
              "      <td>11.0</td>\n",
              "      <td>https://web.archive.org/web/20161205004132/htt...</td>\n",
              "      <td>Phillip Carter is a former Army officer an...</td>\n",
              "    </tr>\n",
              "    <tr>\n",
              "      <th>142058</th>\n",
              "      <td>145521</td>\n",
              "      <td>217416</td>\n",
              "      <td>My best trick for staying fit? Telling everyon...</td>\n",
              "      <td>Washington Post</td>\n",
              "      <td>Mike Riggs</td>\n",
              "      <td>2016-11-30</td>\n",
              "      <td>2016.0</td>\n",
              "      <td>11.0</td>\n",
              "      <td>https://web.archive.org/web/20161205004132/htt...</td>\n",
              "      <td>The author, before and after he lost 90 lbs...</td>\n",
              "    </tr>\n",
              "  </tbody>\n",
              "</table>\n",
              "<p>7985 rows × 10 columns</p>\n",
              "</div>\n",
              "      <button class=\"colab-df-convert\" onclick=\"convertToInteractive('df-822e21ad-a4c7-4de9-9dcc-d53e04bc5734')\"\n",
              "              title=\"Convert this dataframe to an interactive table.\"\n",
              "              style=\"display:none;\">\n",
              "        \n",
              "  <svg xmlns=\"http://www.w3.org/2000/svg\" height=\"24px\"viewBox=\"0 0 24 24\"\n",
              "       width=\"24px\">\n",
              "    <path d=\"M0 0h24v24H0V0z\" fill=\"none\"/>\n",
              "    <path d=\"M18.56 5.44l.94 2.06.94-2.06 2.06-.94-2.06-.94-.94-2.06-.94 2.06-2.06.94zm-11 1L8.5 8.5l.94-2.06 2.06-.94-2.06-.94L8.5 2.5l-.94 2.06-2.06.94zm10 10l.94 2.06.94-2.06 2.06-.94-2.06-.94-.94-2.06-.94 2.06-2.06.94z\"/><path d=\"M17.41 7.96l-1.37-1.37c-.4-.4-.92-.59-1.43-.59-.52 0-1.04.2-1.43.59L10.3 9.45l-7.72 7.72c-.78.78-.78 2.05 0 2.83L4 21.41c.39.39.9.59 1.41.59.51 0 1.02-.2 1.41-.59l7.78-7.78 2.81-2.81c.8-.78.8-2.07 0-2.86zM5.41 20L4 18.59l7.72-7.72 1.47 1.35L5.41 20z\"/>\n",
              "  </svg>\n",
              "      </button>\n",
              "      \n",
              "  <style>\n",
              "    .colab-df-container {\n",
              "      display:flex;\n",
              "      flex-wrap:wrap;\n",
              "      gap: 12px;\n",
              "    }\n",
              "\n",
              "    .colab-df-convert {\n",
              "      background-color: #E8F0FE;\n",
              "      border: none;\n",
              "      border-radius: 50%;\n",
              "      cursor: pointer;\n",
              "      display: none;\n",
              "      fill: #1967D2;\n",
              "      height: 32px;\n",
              "      padding: 0 0 0 0;\n",
              "      width: 32px;\n",
              "    }\n",
              "\n",
              "    .colab-df-convert:hover {\n",
              "      background-color: #E2EBFA;\n",
              "      box-shadow: 0px 1px 2px rgba(60, 64, 67, 0.3), 0px 1px 3px 1px rgba(60, 64, 67, 0.15);\n",
              "      fill: #174EA6;\n",
              "    }\n",
              "\n",
              "    [theme=dark] .colab-df-convert {\n",
              "      background-color: #3B4455;\n",
              "      fill: #D2E3FC;\n",
              "    }\n",
              "\n",
              "    [theme=dark] .colab-df-convert:hover {\n",
              "      background-color: #434B5C;\n",
              "      box-shadow: 0px 1px 3px 1px rgba(0, 0, 0, 0.15);\n",
              "      filter: drop-shadow(0px 1px 2px rgba(0, 0, 0, 0.3));\n",
              "      fill: #FFFFFF;\n",
              "    }\n",
              "  </style>\n",
              "\n",
              "      <script>\n",
              "        const buttonEl =\n",
              "          document.querySelector('#df-822e21ad-a4c7-4de9-9dcc-d53e04bc5734 button.colab-df-convert');\n",
              "        buttonEl.style.display =\n",
              "          google.colab.kernel.accessAllowed ? 'block' : 'none';\n",
              "\n",
              "        async function convertToInteractive(key) {\n",
              "          const element = document.querySelector('#df-822e21ad-a4c7-4de9-9dcc-d53e04bc5734');\n",
              "          const dataTable =\n",
              "            await google.colab.kernel.invokeFunction('convertToInteractive',\n",
              "                                                     [key], {});\n",
              "          if (!dataTable) return;\n",
              "\n",
              "          const docLinkHtml = 'Like what you see? Visit the ' +\n",
              "            '<a target=\"_blank\" href=https://colab.research.google.com/notebooks/data_table.ipynb>data table notebook</a>'\n",
              "            + ' to learn more about interactive tables.';\n",
              "          element.innerHTML = '';\n",
              "          dataTable['output_type'] = 'display_data';\n",
              "          await google.colab.output.renderOutput(dataTable, element);\n",
              "          const docLink = document.createElement('div');\n",
              "          docLink.innerHTML = docLinkHtml;\n",
              "          element.appendChild(docLink);\n",
              "        }\n",
              "      </script>\n",
              "    </div>\n",
              "  </div>\n",
              "  "
            ]
          },
          "metadata": {},
          "execution_count": 9
        }
      ]
    },
    {
      "cell_type": "code",
      "source": [
        "data_df.shape"
      ],
      "metadata": {
        "colab": {
          "base_uri": "https://localhost:8080/"
        },
        "id": "gOIKGu2JfWEv",
        "outputId": "48b86b96-dfcb-4dce-c42a-558a6135f772"
      },
      "execution_count": 10,
      "outputs": [
        {
          "output_type": "execute_result",
          "data": {
            "text/plain": [
              "(7985, 10)"
            ]
          },
          "metadata": {},
          "execution_count": 10
        }
      ]
    },
    {
      "cell_type": "code",
      "source": [
        "data_df.columns"
      ],
      "metadata": {
        "colab": {
          "base_uri": "https://localhost:8080/"
        },
        "id": "SMEk705Me4fU",
        "outputId": "ba842cc8-8488-4fdd-efb3-820dc7ae3251"
      },
      "execution_count": 11,
      "outputs": [
        {
          "output_type": "execute_result",
          "data": {
            "text/plain": [
              "Index(['Unnamed: 0', 'id', 'title', 'publication', 'author', 'date', 'year',\n",
              "       'month', 'url', 'content'],\n",
              "      dtype='object')"
            ]
          },
          "metadata": {},
          "execution_count": 11
        }
      ]
    },
    {
      "cell_type": "code",
      "source": [
        "data_df['id'].is_unique"
      ],
      "metadata": {
        "colab": {
          "base_uri": "https://localhost:8080/"
        },
        "id": "4-yl8AtJgJEH",
        "outputId": "2dc97c28-4ac1-4153-ad57-f23d978c9fdb"
      },
      "execution_count": 12,
      "outputs": [
        {
          "output_type": "execute_result",
          "data": {
            "text/plain": [
              "True"
            ]
          },
          "metadata": {},
          "execution_count": 12
        }
      ]
    },
    {
      "cell_type": "code",
      "source": [
        "# get only relevant columns\n",
        "nov_df = data_df[['publication', 'content']].copy()"
      ],
      "metadata": {
        "id": "BL4cEoFIfFwg"
      },
      "execution_count": 13,
      "outputs": []
    },
    {
      "cell_type": "code",
      "source": [
        "nov_df.head()"
      ],
      "metadata": {
        "colab": {
          "base_uri": "https://localhost:8080/",
          "height": 206
        },
        "id": "Qf5RR87QiXhQ",
        "outputId": "7faa26dd-e631-49b5-9a67-ec5b975f18bd"
      },
      "execution_count": 14,
      "outputs": [
        {
          "output_type": "execute_result",
          "data": {
            "text/plain": [
              "         publication                                            content\n",
              "2671  New York Times  BRASÍLIA  —   They were idealists, united in t...\n",
              "2679  New York Times  A   official in the Los Angeles County Sheriff...\n",
              "2689  New York Times  A couple of years ago, Paul Gatling, a retired...\n",
              "2691  New York Times  INDIANAPOLIS  —   Less than a month ago, Senat...\n",
              "2710  New York Times  By seizing the Republican presidential nominat..."
            ],
            "text/html": [
              "\n",
              "  <div id=\"df-0556a4b5-0fd1-4614-9320-cfd55e5f45d1\">\n",
              "    <div class=\"colab-df-container\">\n",
              "      <div>\n",
              "<style scoped>\n",
              "    .dataframe tbody tr th:only-of-type {\n",
              "        vertical-align: middle;\n",
              "    }\n",
              "\n",
              "    .dataframe tbody tr th {\n",
              "        vertical-align: top;\n",
              "    }\n",
              "\n",
              "    .dataframe thead th {\n",
              "        text-align: right;\n",
              "    }\n",
              "</style>\n",
              "<table border=\"1\" class=\"dataframe\">\n",
              "  <thead>\n",
              "    <tr style=\"text-align: right;\">\n",
              "      <th></th>\n",
              "      <th>publication</th>\n",
              "      <th>content</th>\n",
              "    </tr>\n",
              "  </thead>\n",
              "  <tbody>\n",
              "    <tr>\n",
              "      <th>2671</th>\n",
              "      <td>New York Times</td>\n",
              "      <td>BRASÍLIA  —   They were idealists, united in t...</td>\n",
              "    </tr>\n",
              "    <tr>\n",
              "      <th>2679</th>\n",
              "      <td>New York Times</td>\n",
              "      <td>A   official in the Los Angeles County Sheriff...</td>\n",
              "    </tr>\n",
              "    <tr>\n",
              "      <th>2689</th>\n",
              "      <td>New York Times</td>\n",
              "      <td>A couple of years ago, Paul Gatling, a retired...</td>\n",
              "    </tr>\n",
              "    <tr>\n",
              "      <th>2691</th>\n",
              "      <td>New York Times</td>\n",
              "      <td>INDIANAPOLIS  —   Less than a month ago, Senat...</td>\n",
              "    </tr>\n",
              "    <tr>\n",
              "      <th>2710</th>\n",
              "      <td>New York Times</td>\n",
              "      <td>By seizing the Republican presidential nominat...</td>\n",
              "    </tr>\n",
              "  </tbody>\n",
              "</table>\n",
              "</div>\n",
              "      <button class=\"colab-df-convert\" onclick=\"convertToInteractive('df-0556a4b5-0fd1-4614-9320-cfd55e5f45d1')\"\n",
              "              title=\"Convert this dataframe to an interactive table.\"\n",
              "              style=\"display:none;\">\n",
              "        \n",
              "  <svg xmlns=\"http://www.w3.org/2000/svg\" height=\"24px\"viewBox=\"0 0 24 24\"\n",
              "       width=\"24px\">\n",
              "    <path d=\"M0 0h24v24H0V0z\" fill=\"none\"/>\n",
              "    <path d=\"M18.56 5.44l.94 2.06.94-2.06 2.06-.94-2.06-.94-.94-2.06-.94 2.06-2.06.94zm-11 1L8.5 8.5l.94-2.06 2.06-.94-2.06-.94L8.5 2.5l-.94 2.06-2.06.94zm10 10l.94 2.06.94-2.06 2.06-.94-2.06-.94-.94-2.06-.94 2.06-2.06.94z\"/><path d=\"M17.41 7.96l-1.37-1.37c-.4-.4-.92-.59-1.43-.59-.52 0-1.04.2-1.43.59L10.3 9.45l-7.72 7.72c-.78.78-.78 2.05 0 2.83L4 21.41c.39.39.9.59 1.41.59.51 0 1.02-.2 1.41-.59l7.78-7.78 2.81-2.81c.8-.78.8-2.07 0-2.86zM5.41 20L4 18.59l7.72-7.72 1.47 1.35L5.41 20z\"/>\n",
              "  </svg>\n",
              "      </button>\n",
              "      \n",
              "  <style>\n",
              "    .colab-df-container {\n",
              "      display:flex;\n",
              "      flex-wrap:wrap;\n",
              "      gap: 12px;\n",
              "    }\n",
              "\n",
              "    .colab-df-convert {\n",
              "      background-color: #E8F0FE;\n",
              "      border: none;\n",
              "      border-radius: 50%;\n",
              "      cursor: pointer;\n",
              "      display: none;\n",
              "      fill: #1967D2;\n",
              "      height: 32px;\n",
              "      padding: 0 0 0 0;\n",
              "      width: 32px;\n",
              "    }\n",
              "\n",
              "    .colab-df-convert:hover {\n",
              "      background-color: #E2EBFA;\n",
              "      box-shadow: 0px 1px 2px rgba(60, 64, 67, 0.3), 0px 1px 3px 1px rgba(60, 64, 67, 0.15);\n",
              "      fill: #174EA6;\n",
              "    }\n",
              "\n",
              "    [theme=dark] .colab-df-convert {\n",
              "      background-color: #3B4455;\n",
              "      fill: #D2E3FC;\n",
              "    }\n",
              "\n",
              "    [theme=dark] .colab-df-convert:hover {\n",
              "      background-color: #434B5C;\n",
              "      box-shadow: 0px 1px 3px 1px rgba(0, 0, 0, 0.15);\n",
              "      filter: drop-shadow(0px 1px 2px rgba(0, 0, 0, 0.3));\n",
              "      fill: #FFFFFF;\n",
              "    }\n",
              "  </style>\n",
              "\n",
              "      <script>\n",
              "        const buttonEl =\n",
              "          document.querySelector('#df-0556a4b5-0fd1-4614-9320-cfd55e5f45d1 button.colab-df-convert');\n",
              "        buttonEl.style.display =\n",
              "          google.colab.kernel.accessAllowed ? 'block' : 'none';\n",
              "\n",
              "        async function convertToInteractive(key) {\n",
              "          const element = document.querySelector('#df-0556a4b5-0fd1-4614-9320-cfd55e5f45d1');\n",
              "          const dataTable =\n",
              "            await google.colab.kernel.invokeFunction('convertToInteractive',\n",
              "                                                     [key], {});\n",
              "          if (!dataTable) return;\n",
              "\n",
              "          const docLinkHtml = 'Like what you see? Visit the ' +\n",
              "            '<a target=\"_blank\" href=https://colab.research.google.com/notebooks/data_table.ipynb>data table notebook</a>'\n",
              "            + ' to learn more about interactive tables.';\n",
              "          element.innerHTML = '';\n",
              "          dataTable['output_type'] = 'display_data';\n",
              "          await google.colab.output.renderOutput(dataTable, element);\n",
              "          const docLink = document.createElement('div');\n",
              "          docLink.innerHTML = docLinkHtml;\n",
              "          element.appendChild(docLink);\n",
              "        }\n",
              "      </script>\n",
              "    </div>\n",
              "  </div>\n",
              "  "
            ]
          },
          "metadata": {},
          "execution_count": 14
        }
      ]
    },
    {
      "cell_type": "code",
      "source": [
        "nov_df.shape"
      ],
      "metadata": {
        "colab": {
          "base_uri": "https://localhost:8080/"
        },
        "id": "v7iNOdlkie_F",
        "outputId": "0a1e6dc4-287b-4a60-c169-6a32ed399043"
      },
      "execution_count": 15,
      "outputs": [
        {
          "output_type": "execute_result",
          "data": {
            "text/plain": [
              "(7985, 2)"
            ]
          },
          "metadata": {},
          "execution_count": 15
        }
      ]
    },
    {
      "cell_type": "markdown",
      "source": [
        "# Unify bias data"
      ],
      "metadata": {
        "id": "EWQKNoiTeM47"
      }
    },
    {
      "cell_type": "code",
      "source": [
        "# load media-bias-fc-scrape\n",
        "mbfc_df = pd.read_csv(\"/content/drive/MyDrive/Schoolwork/Big Data Final/media-bias-fc-scrape.csv\")"
      ],
      "metadata": {
        "id": "rBrrV4bbcM5u"
      },
      "execution_count": 16,
      "outputs": []
    },
    {
      "cell_type": "code",
      "source": [
        "mbfc_df.head()"
      ],
      "metadata": {
        "colab": {
          "base_uri": "https://localhost:8080/",
          "height": 206
        },
        "id": "TBfjWaSYdbda",
        "outputId": "0cbce072-a3c0-40cb-fbca-7510698a538e"
      },
      "execution_count": 17,
      "outputs": [
        {
          "output_type": "execute_result",
          "data": {
            "text/plain": [
              "                    site_name                       url bias_png  \\\n",
              "0                      Act.TV             http://act.tv    left4   \n",
              "1              Addicting Info  http://addictinginfo.com    left5   \n",
              "2                    Advocate  http://www.advocate.com/    left8   \n",
              "3              Akkadian Times  http://akkadiantimes.com    left8   \n",
              "4  Alliance for Justice (AFJ)      https://www.afj.org/    left8   \n",
              "\n",
              "  factual_reporting  \n",
              "0              HIGH  \n",
              "1             MIXED  \n",
              "2              HIGH  \n",
              "3              HIGH  \n",
              "4              HIGH  "
            ],
            "text/html": [
              "\n",
              "  <div id=\"df-5c89d138-c6b6-4991-b49b-bc312bd1d8d0\">\n",
              "    <div class=\"colab-df-container\">\n",
              "      <div>\n",
              "<style scoped>\n",
              "    .dataframe tbody tr th:only-of-type {\n",
              "        vertical-align: middle;\n",
              "    }\n",
              "\n",
              "    .dataframe tbody tr th {\n",
              "        vertical-align: top;\n",
              "    }\n",
              "\n",
              "    .dataframe thead th {\n",
              "        text-align: right;\n",
              "    }\n",
              "</style>\n",
              "<table border=\"1\" class=\"dataframe\">\n",
              "  <thead>\n",
              "    <tr style=\"text-align: right;\">\n",
              "      <th></th>\n",
              "      <th>site_name</th>\n",
              "      <th>url</th>\n",
              "      <th>bias_png</th>\n",
              "      <th>factual_reporting</th>\n",
              "    </tr>\n",
              "  </thead>\n",
              "  <tbody>\n",
              "    <tr>\n",
              "      <th>0</th>\n",
              "      <td>Act.TV</td>\n",
              "      <td>http://act.tv</td>\n",
              "      <td>left4</td>\n",
              "      <td>HIGH</td>\n",
              "    </tr>\n",
              "    <tr>\n",
              "      <th>1</th>\n",
              "      <td>Addicting Info</td>\n",
              "      <td>http://addictinginfo.com</td>\n",
              "      <td>left5</td>\n",
              "      <td>MIXED</td>\n",
              "    </tr>\n",
              "    <tr>\n",
              "      <th>2</th>\n",
              "      <td>Advocate</td>\n",
              "      <td>http://www.advocate.com/</td>\n",
              "      <td>left8</td>\n",
              "      <td>HIGH</td>\n",
              "    </tr>\n",
              "    <tr>\n",
              "      <th>3</th>\n",
              "      <td>Akkadian Times</td>\n",
              "      <td>http://akkadiantimes.com</td>\n",
              "      <td>left8</td>\n",
              "      <td>HIGH</td>\n",
              "    </tr>\n",
              "    <tr>\n",
              "      <th>4</th>\n",
              "      <td>Alliance for Justice (AFJ)</td>\n",
              "      <td>https://www.afj.org/</td>\n",
              "      <td>left8</td>\n",
              "      <td>HIGH</td>\n",
              "    </tr>\n",
              "  </tbody>\n",
              "</table>\n",
              "</div>\n",
              "      <button class=\"colab-df-convert\" onclick=\"convertToInteractive('df-5c89d138-c6b6-4991-b49b-bc312bd1d8d0')\"\n",
              "              title=\"Convert this dataframe to an interactive table.\"\n",
              "              style=\"display:none;\">\n",
              "        \n",
              "  <svg xmlns=\"http://www.w3.org/2000/svg\" height=\"24px\"viewBox=\"0 0 24 24\"\n",
              "       width=\"24px\">\n",
              "    <path d=\"M0 0h24v24H0V0z\" fill=\"none\"/>\n",
              "    <path d=\"M18.56 5.44l.94 2.06.94-2.06 2.06-.94-2.06-.94-.94-2.06-.94 2.06-2.06.94zm-11 1L8.5 8.5l.94-2.06 2.06-.94-2.06-.94L8.5 2.5l-.94 2.06-2.06.94zm10 10l.94 2.06.94-2.06 2.06-.94-2.06-.94-.94-2.06-.94 2.06-2.06.94z\"/><path d=\"M17.41 7.96l-1.37-1.37c-.4-.4-.92-.59-1.43-.59-.52 0-1.04.2-1.43.59L10.3 9.45l-7.72 7.72c-.78.78-.78 2.05 0 2.83L4 21.41c.39.39.9.59 1.41.59.51 0 1.02-.2 1.41-.59l7.78-7.78 2.81-2.81c.8-.78.8-2.07 0-2.86zM5.41 20L4 18.59l7.72-7.72 1.47 1.35L5.41 20z\"/>\n",
              "  </svg>\n",
              "      </button>\n",
              "      \n",
              "  <style>\n",
              "    .colab-df-container {\n",
              "      display:flex;\n",
              "      flex-wrap:wrap;\n",
              "      gap: 12px;\n",
              "    }\n",
              "\n",
              "    .colab-df-convert {\n",
              "      background-color: #E8F0FE;\n",
              "      border: none;\n",
              "      border-radius: 50%;\n",
              "      cursor: pointer;\n",
              "      display: none;\n",
              "      fill: #1967D2;\n",
              "      height: 32px;\n",
              "      padding: 0 0 0 0;\n",
              "      width: 32px;\n",
              "    }\n",
              "\n",
              "    .colab-df-convert:hover {\n",
              "      background-color: #E2EBFA;\n",
              "      box-shadow: 0px 1px 2px rgba(60, 64, 67, 0.3), 0px 1px 3px 1px rgba(60, 64, 67, 0.15);\n",
              "      fill: #174EA6;\n",
              "    }\n",
              "\n",
              "    [theme=dark] .colab-df-convert {\n",
              "      background-color: #3B4455;\n",
              "      fill: #D2E3FC;\n",
              "    }\n",
              "\n",
              "    [theme=dark] .colab-df-convert:hover {\n",
              "      background-color: #434B5C;\n",
              "      box-shadow: 0px 1px 3px 1px rgba(0, 0, 0, 0.15);\n",
              "      filter: drop-shadow(0px 1px 2px rgba(0, 0, 0, 0.3));\n",
              "      fill: #FFFFFF;\n",
              "    }\n",
              "  </style>\n",
              "\n",
              "      <script>\n",
              "        const buttonEl =\n",
              "          document.querySelector('#df-5c89d138-c6b6-4991-b49b-bc312bd1d8d0 button.colab-df-convert');\n",
              "        buttonEl.style.display =\n",
              "          google.colab.kernel.accessAllowed ? 'block' : 'none';\n",
              "\n",
              "        async function convertToInteractive(key) {\n",
              "          const element = document.querySelector('#df-5c89d138-c6b6-4991-b49b-bc312bd1d8d0');\n",
              "          const dataTable =\n",
              "            await google.colab.kernel.invokeFunction('convertToInteractive',\n",
              "                                                     [key], {});\n",
              "          if (!dataTable) return;\n",
              "\n",
              "          const docLinkHtml = 'Like what you see? Visit the ' +\n",
              "            '<a target=\"_blank\" href=https://colab.research.google.com/notebooks/data_table.ipynb>data table notebook</a>'\n",
              "            + ' to learn more about interactive tables.';\n",
              "          element.innerHTML = '';\n",
              "          dataTable['output_type'] = 'display_data';\n",
              "          await google.colab.output.renderOutput(dataTable, element);\n",
              "          const docLink = document.createElement('div');\n",
              "          docLink.innerHTML = docLinkHtml;\n",
              "          element.appendChild(docLink);\n",
              "        }\n",
              "      </script>\n",
              "    </div>\n",
              "  </div>\n",
              "  "
            ]
          },
          "metadata": {},
          "execution_count": 17
        }
      ]
    },
    {
      "cell_type": "code",
      "source": [
        "# remove numbers from \"bias_png\" column\n",
        "# https://stackoverflow.com/questions/41719259/how-to-remove-numbers-from-string-terms-in-a-pandas-dataframe\n",
        "mbfc_df[\"bias_png\"] = mbfc_df[\"bias_png\"].str.replace('\\d+', '')"
      ],
      "metadata": {
        "colab": {
          "base_uri": "https://localhost:8080/"
        },
        "id": "XRUjTtD7cZM8",
        "outputId": "d6cd5df7-e5c9-41ed-feae-bb331175821f"
      },
      "execution_count": 18,
      "outputs": [
        {
          "output_type": "stream",
          "name": "stderr",
          "text": [
            "<ipython-input-18-9a92355be93f>:3: FutureWarning: The default value of regex will change from True to False in a future version.\n",
            "  mbfc_df[\"bias_png\"] = mbfc_df[\"bias_png\"].str.replace('\\d+', '')\n"
          ]
        }
      ]
    },
    {
      "cell_type": "code",
      "source": [
        "# check values in \"bias_png\" column\n",
        "mbfc_df['bias_png'].unique()"
      ],
      "metadata": {
        "colab": {
          "base_uri": "https://localhost:8080/"
        },
        "id": "JDr4tQtnckDU",
        "outputId": "f6f4fc84-50ef-4c93-9ed5-952d6550a0fc"
      },
      "execution_count": 19,
      "outputs": [
        {
          "output_type": "execute_result",
          "data": {
            "text/plain": [
              "array(['left', 'extremeleft', 'leftcenter', 'leastbiased', 'rightcenter',\n",
              "       'right', 'extremeright'], dtype=object)"
            ]
          },
          "metadata": {},
          "execution_count": 19
        }
      ]
    },
    {
      "cell_type": "code",
      "source": [
        "# create new column, \"bias\", with value based on bias_png value\n",
        "def sorter(x):\n",
        "  if x == \"left\":\n",
        "    return 1\n",
        "  elif x == \"extremeleft\":\n",
        "    return 1\n",
        "  elif x == \"leftcenter\":\n",
        "    return 1\n",
        "  elif x == \"leastbiased\":\n",
        "    return 0.5\n",
        "  elif x == \"rightcenter\":\n",
        "    return 0\n",
        "  elif x == \"right\":\n",
        "    return 0\n",
        "  elif x == \"extremeright\":\n",
        "    return 0\n",
        "\n",
        "mbfc_df['bias'] = mbfc_df['bias_png'].apply(sorter)"
      ],
      "metadata": {
        "id": "FDk_W8S-cdsj"
      },
      "execution_count": 20,
      "outputs": []
    },
    {
      "cell_type": "code",
      "source": [
        "mbfc_df.head()"
      ],
      "metadata": {
        "colab": {
          "base_uri": "https://localhost:8080/",
          "height": 206
        },
        "id": "5IFdmPL-cx_O",
        "outputId": "9c9a03f9-b587-4943-a3c7-7cec272c2631"
      },
      "execution_count": 21,
      "outputs": [
        {
          "output_type": "execute_result",
          "data": {
            "text/plain": [
              "                    site_name                       url bias_png  \\\n",
              "0                      Act.TV             http://act.tv     left   \n",
              "1              Addicting Info  http://addictinginfo.com     left   \n",
              "2                    Advocate  http://www.advocate.com/     left   \n",
              "3              Akkadian Times  http://akkadiantimes.com     left   \n",
              "4  Alliance for Justice (AFJ)      https://www.afj.org/     left   \n",
              "\n",
              "  factual_reporting  bias  \n",
              "0              HIGH   1.0  \n",
              "1             MIXED   1.0  \n",
              "2              HIGH   1.0  \n",
              "3              HIGH   1.0  \n",
              "4              HIGH   1.0  "
            ],
            "text/html": [
              "\n",
              "  <div id=\"df-22cb09f0-a155-4079-82c1-0fdb8e6da330\">\n",
              "    <div class=\"colab-df-container\">\n",
              "      <div>\n",
              "<style scoped>\n",
              "    .dataframe tbody tr th:only-of-type {\n",
              "        vertical-align: middle;\n",
              "    }\n",
              "\n",
              "    .dataframe tbody tr th {\n",
              "        vertical-align: top;\n",
              "    }\n",
              "\n",
              "    .dataframe thead th {\n",
              "        text-align: right;\n",
              "    }\n",
              "</style>\n",
              "<table border=\"1\" class=\"dataframe\">\n",
              "  <thead>\n",
              "    <tr style=\"text-align: right;\">\n",
              "      <th></th>\n",
              "      <th>site_name</th>\n",
              "      <th>url</th>\n",
              "      <th>bias_png</th>\n",
              "      <th>factual_reporting</th>\n",
              "      <th>bias</th>\n",
              "    </tr>\n",
              "  </thead>\n",
              "  <tbody>\n",
              "    <tr>\n",
              "      <th>0</th>\n",
              "      <td>Act.TV</td>\n",
              "      <td>http://act.tv</td>\n",
              "      <td>left</td>\n",
              "      <td>HIGH</td>\n",
              "      <td>1.0</td>\n",
              "    </tr>\n",
              "    <tr>\n",
              "      <th>1</th>\n",
              "      <td>Addicting Info</td>\n",
              "      <td>http://addictinginfo.com</td>\n",
              "      <td>left</td>\n",
              "      <td>MIXED</td>\n",
              "      <td>1.0</td>\n",
              "    </tr>\n",
              "    <tr>\n",
              "      <th>2</th>\n",
              "      <td>Advocate</td>\n",
              "      <td>http://www.advocate.com/</td>\n",
              "      <td>left</td>\n",
              "      <td>HIGH</td>\n",
              "      <td>1.0</td>\n",
              "    </tr>\n",
              "    <tr>\n",
              "      <th>3</th>\n",
              "      <td>Akkadian Times</td>\n",
              "      <td>http://akkadiantimes.com</td>\n",
              "      <td>left</td>\n",
              "      <td>HIGH</td>\n",
              "      <td>1.0</td>\n",
              "    </tr>\n",
              "    <tr>\n",
              "      <th>4</th>\n",
              "      <td>Alliance for Justice (AFJ)</td>\n",
              "      <td>https://www.afj.org/</td>\n",
              "      <td>left</td>\n",
              "      <td>HIGH</td>\n",
              "      <td>1.0</td>\n",
              "    </tr>\n",
              "  </tbody>\n",
              "</table>\n",
              "</div>\n",
              "      <button class=\"colab-df-convert\" onclick=\"convertToInteractive('df-22cb09f0-a155-4079-82c1-0fdb8e6da330')\"\n",
              "              title=\"Convert this dataframe to an interactive table.\"\n",
              "              style=\"display:none;\">\n",
              "        \n",
              "  <svg xmlns=\"http://www.w3.org/2000/svg\" height=\"24px\"viewBox=\"0 0 24 24\"\n",
              "       width=\"24px\">\n",
              "    <path d=\"M0 0h24v24H0V0z\" fill=\"none\"/>\n",
              "    <path d=\"M18.56 5.44l.94 2.06.94-2.06 2.06-.94-2.06-.94-.94-2.06-.94 2.06-2.06.94zm-11 1L8.5 8.5l.94-2.06 2.06-.94-2.06-.94L8.5 2.5l-.94 2.06-2.06.94zm10 10l.94 2.06.94-2.06 2.06-.94-2.06-.94-.94-2.06-.94 2.06-2.06.94z\"/><path d=\"M17.41 7.96l-1.37-1.37c-.4-.4-.92-.59-1.43-.59-.52 0-1.04.2-1.43.59L10.3 9.45l-7.72 7.72c-.78.78-.78 2.05 0 2.83L4 21.41c.39.39.9.59 1.41.59.51 0 1.02-.2 1.41-.59l7.78-7.78 2.81-2.81c.8-.78.8-2.07 0-2.86zM5.41 20L4 18.59l7.72-7.72 1.47 1.35L5.41 20z\"/>\n",
              "  </svg>\n",
              "      </button>\n",
              "      \n",
              "  <style>\n",
              "    .colab-df-container {\n",
              "      display:flex;\n",
              "      flex-wrap:wrap;\n",
              "      gap: 12px;\n",
              "    }\n",
              "\n",
              "    .colab-df-convert {\n",
              "      background-color: #E8F0FE;\n",
              "      border: none;\n",
              "      border-radius: 50%;\n",
              "      cursor: pointer;\n",
              "      display: none;\n",
              "      fill: #1967D2;\n",
              "      height: 32px;\n",
              "      padding: 0 0 0 0;\n",
              "      width: 32px;\n",
              "    }\n",
              "\n",
              "    .colab-df-convert:hover {\n",
              "      background-color: #E2EBFA;\n",
              "      box-shadow: 0px 1px 2px rgba(60, 64, 67, 0.3), 0px 1px 3px 1px rgba(60, 64, 67, 0.15);\n",
              "      fill: #174EA6;\n",
              "    }\n",
              "\n",
              "    [theme=dark] .colab-df-convert {\n",
              "      background-color: #3B4455;\n",
              "      fill: #D2E3FC;\n",
              "    }\n",
              "\n",
              "    [theme=dark] .colab-df-convert:hover {\n",
              "      background-color: #434B5C;\n",
              "      box-shadow: 0px 1px 3px 1px rgba(0, 0, 0, 0.15);\n",
              "      filter: drop-shadow(0px 1px 2px rgba(0, 0, 0, 0.3));\n",
              "      fill: #FFFFFF;\n",
              "    }\n",
              "  </style>\n",
              "\n",
              "      <script>\n",
              "        const buttonEl =\n",
              "          document.querySelector('#df-22cb09f0-a155-4079-82c1-0fdb8e6da330 button.colab-df-convert');\n",
              "        buttonEl.style.display =\n",
              "          google.colab.kernel.accessAllowed ? 'block' : 'none';\n",
              "\n",
              "        async function convertToInteractive(key) {\n",
              "          const element = document.querySelector('#df-22cb09f0-a155-4079-82c1-0fdb8e6da330');\n",
              "          const dataTable =\n",
              "            await google.colab.kernel.invokeFunction('convertToInteractive',\n",
              "                                                     [key], {});\n",
              "          if (!dataTable) return;\n",
              "\n",
              "          const docLinkHtml = 'Like what you see? Visit the ' +\n",
              "            '<a target=\"_blank\" href=https://colab.research.google.com/notebooks/data_table.ipynb>data table notebook</a>'\n",
              "            + ' to learn more about interactive tables.';\n",
              "          element.innerHTML = '';\n",
              "          dataTable['output_type'] = 'display_data';\n",
              "          await google.colab.output.renderOutput(dataTable, element);\n",
              "          const docLink = document.createElement('div');\n",
              "          docLink.innerHTML = docLinkHtml;\n",
              "          element.appendChild(docLink);\n",
              "        }\n",
              "      </script>\n",
              "    </div>\n",
              "  </div>\n",
              "  "
            ]
          },
          "metadata": {},
          "execution_count": 21
        }
      ]
    },
    {
      "cell_type": "code",
      "source": [
        "bias_df = mbfc_df[['site_name', 'bias']].copy()"
      ],
      "metadata": {
        "id": "b1OtXgGwdrwy"
      },
      "execution_count": 22,
      "outputs": []
    },
    {
      "cell_type": "code",
      "source": [
        "bias_df.head()"
      ],
      "metadata": {
        "colab": {
          "base_uri": "https://localhost:8080/",
          "height": 206
        },
        "id": "KZuytnzgd177",
        "outputId": "6115fe51-6d7a-48a1-e2a7-246baaa6e9e7"
      },
      "execution_count": 23,
      "outputs": [
        {
          "output_type": "execute_result",
          "data": {
            "text/plain": [
              "                    site_name  bias\n",
              "0                      Act.TV   1.0\n",
              "1              Addicting Info   1.0\n",
              "2                    Advocate   1.0\n",
              "3              Akkadian Times   1.0\n",
              "4  Alliance for Justice (AFJ)   1.0"
            ],
            "text/html": [
              "\n",
              "  <div id=\"df-25406132-c6bb-482d-a9f4-814af3a08377\">\n",
              "    <div class=\"colab-df-container\">\n",
              "      <div>\n",
              "<style scoped>\n",
              "    .dataframe tbody tr th:only-of-type {\n",
              "        vertical-align: middle;\n",
              "    }\n",
              "\n",
              "    .dataframe tbody tr th {\n",
              "        vertical-align: top;\n",
              "    }\n",
              "\n",
              "    .dataframe thead th {\n",
              "        text-align: right;\n",
              "    }\n",
              "</style>\n",
              "<table border=\"1\" class=\"dataframe\">\n",
              "  <thead>\n",
              "    <tr style=\"text-align: right;\">\n",
              "      <th></th>\n",
              "      <th>site_name</th>\n",
              "      <th>bias</th>\n",
              "    </tr>\n",
              "  </thead>\n",
              "  <tbody>\n",
              "    <tr>\n",
              "      <th>0</th>\n",
              "      <td>Act.TV</td>\n",
              "      <td>1.0</td>\n",
              "    </tr>\n",
              "    <tr>\n",
              "      <th>1</th>\n",
              "      <td>Addicting Info</td>\n",
              "      <td>1.0</td>\n",
              "    </tr>\n",
              "    <tr>\n",
              "      <th>2</th>\n",
              "      <td>Advocate</td>\n",
              "      <td>1.0</td>\n",
              "    </tr>\n",
              "    <tr>\n",
              "      <th>3</th>\n",
              "      <td>Akkadian Times</td>\n",
              "      <td>1.0</td>\n",
              "    </tr>\n",
              "    <tr>\n",
              "      <th>4</th>\n",
              "      <td>Alliance for Justice (AFJ)</td>\n",
              "      <td>1.0</td>\n",
              "    </tr>\n",
              "  </tbody>\n",
              "</table>\n",
              "</div>\n",
              "      <button class=\"colab-df-convert\" onclick=\"convertToInteractive('df-25406132-c6bb-482d-a9f4-814af3a08377')\"\n",
              "              title=\"Convert this dataframe to an interactive table.\"\n",
              "              style=\"display:none;\">\n",
              "        \n",
              "  <svg xmlns=\"http://www.w3.org/2000/svg\" height=\"24px\"viewBox=\"0 0 24 24\"\n",
              "       width=\"24px\">\n",
              "    <path d=\"M0 0h24v24H0V0z\" fill=\"none\"/>\n",
              "    <path d=\"M18.56 5.44l.94 2.06.94-2.06 2.06-.94-2.06-.94-.94-2.06-.94 2.06-2.06.94zm-11 1L8.5 8.5l.94-2.06 2.06-.94-2.06-.94L8.5 2.5l-.94 2.06-2.06.94zm10 10l.94 2.06.94-2.06 2.06-.94-2.06-.94-.94-2.06-.94 2.06-2.06.94z\"/><path d=\"M17.41 7.96l-1.37-1.37c-.4-.4-.92-.59-1.43-.59-.52 0-1.04.2-1.43.59L10.3 9.45l-7.72 7.72c-.78.78-.78 2.05 0 2.83L4 21.41c.39.39.9.59 1.41.59.51 0 1.02-.2 1.41-.59l7.78-7.78 2.81-2.81c.8-.78.8-2.07 0-2.86zM5.41 20L4 18.59l7.72-7.72 1.47 1.35L5.41 20z\"/>\n",
              "  </svg>\n",
              "      </button>\n",
              "      \n",
              "  <style>\n",
              "    .colab-df-container {\n",
              "      display:flex;\n",
              "      flex-wrap:wrap;\n",
              "      gap: 12px;\n",
              "    }\n",
              "\n",
              "    .colab-df-convert {\n",
              "      background-color: #E8F0FE;\n",
              "      border: none;\n",
              "      border-radius: 50%;\n",
              "      cursor: pointer;\n",
              "      display: none;\n",
              "      fill: #1967D2;\n",
              "      height: 32px;\n",
              "      padding: 0 0 0 0;\n",
              "      width: 32px;\n",
              "    }\n",
              "\n",
              "    .colab-df-convert:hover {\n",
              "      background-color: #E2EBFA;\n",
              "      box-shadow: 0px 1px 2px rgba(60, 64, 67, 0.3), 0px 1px 3px 1px rgba(60, 64, 67, 0.15);\n",
              "      fill: #174EA6;\n",
              "    }\n",
              "\n",
              "    [theme=dark] .colab-df-convert {\n",
              "      background-color: #3B4455;\n",
              "      fill: #D2E3FC;\n",
              "    }\n",
              "\n",
              "    [theme=dark] .colab-df-convert:hover {\n",
              "      background-color: #434B5C;\n",
              "      box-shadow: 0px 1px 3px 1px rgba(0, 0, 0, 0.15);\n",
              "      filter: drop-shadow(0px 1px 2px rgba(0, 0, 0, 0.3));\n",
              "      fill: #FFFFFF;\n",
              "    }\n",
              "  </style>\n",
              "\n",
              "      <script>\n",
              "        const buttonEl =\n",
              "          document.querySelector('#df-25406132-c6bb-482d-a9f4-814af3a08377 button.colab-df-convert');\n",
              "        buttonEl.style.display =\n",
              "          google.colab.kernel.accessAllowed ? 'block' : 'none';\n",
              "\n",
              "        async function convertToInteractive(key) {\n",
              "          const element = document.querySelector('#df-25406132-c6bb-482d-a9f4-814af3a08377');\n",
              "          const dataTable =\n",
              "            await google.colab.kernel.invokeFunction('convertToInteractive',\n",
              "                                                     [key], {});\n",
              "          if (!dataTable) return;\n",
              "\n",
              "          const docLinkHtml = 'Like what you see? Visit the ' +\n",
              "            '<a target=\"_blank\" href=https://colab.research.google.com/notebooks/data_table.ipynb>data table notebook</a>'\n",
              "            + ' to learn more about interactive tables.';\n",
              "          element.innerHTML = '';\n",
              "          dataTable['output_type'] = 'display_data';\n",
              "          await google.colab.output.renderOutput(dataTable, element);\n",
              "          const docLink = document.createElement('div');\n",
              "          docLink.innerHTML = docLinkHtml;\n",
              "          element.appendChild(docLink);\n",
              "        }\n",
              "      </script>\n",
              "    </div>\n",
              "  </div>\n",
              "  "
            ]
          },
          "metadata": {},
          "execution_count": 23
        }
      ]
    },
    {
      "cell_type": "markdown",
      "source": [
        "# Clean bias data"
      ],
      "metadata": {
        "id": "DpMpmr87eR3x"
      }
    },
    {
      "cell_type": "code",
      "source": [
        "# There are a lot more sources in the bias dataset than in the article dataset.\n",
        "bias_sources = bias_df['site_name'].unique()\n",
        "article_sources = nov_df['publication'].unique()\n",
        "print(len(bias_sources), \"sources in Bias dataset;\", len(article_sources), \"sources in Article dataset.\")"
      ],
      "metadata": {
        "colab": {
          "base_uri": "https://localhost:8080/"
        },
        "id": "TmDi2qK3eTcQ",
        "outputId": "1741d112-c2f3-4990-82a0-de0b27afdd18"
      },
      "execution_count": 24,
      "outputs": [
        {
          "output_type": "stream",
          "name": "stdout",
          "text": [
            "1598 sources in Bias dataset; 15 sources in Article dataset.\n"
          ]
        }
      ]
    },
    {
      "cell_type": "code",
      "source": [
        "# Find which sources in the article dataset don't map exactly\n",
        "# to sources in the bias dataset:\n",
        "# Breitbart, Atlantic, Buzzfeed News, Guardian, NPR\n",
        "for x in article_sources:\n",
        "  if(x not in bias_sources):\n",
        "    print(x)"
      ],
      "metadata": {
        "colab": {
          "base_uri": "https://localhost:8080/"
        },
        "id": "T_CfpuLPkEFr",
        "outputId": "7fd3fc1c-1271-42b3-c7d2-4f78049cd4ff"
      },
      "execution_count": 25,
      "outputs": [
        {
          "output_type": "stream",
          "name": "stdout",
          "text": [
            "Breitbart\n",
            "Atlantic\n",
            "Buzzfeed News\n",
            "Guardian\n",
            "NPR\n"
          ]
        }
      ]
    },
    {
      "cell_type": "code",
      "source": [
        "# Now, locate what source in bias_sources corresponds to each inexact one in the article dataset.\n",
        "# Change the source name in bias_sources to correspond exactly to the one in the article dataset."
      ],
      "metadata": {
        "id": "KOqx3oXMkukf"
      },
      "execution_count": 26,
      "outputs": []
    },
    {
      "cell_type": "code",
      "source": [
        "temp = [x for x in bias_sources if re.search('Atlantic', x)]\n",
        "print(temp)"
      ],
      "metadata": {
        "colab": {
          "base_uri": "https://localhost:8080/"
        },
        "id": "O455RHVuko6i",
        "outputId": "543f3be8-eb89-4461-a8c0-b8d0d654776a"
      },
      "execution_count": 27,
      "outputs": [
        {
          "output_type": "stream",
          "name": "stdout",
          "text": [
            "['The Atlantic', 'Atlantic Media', 'Atlantic Council']\n"
          ]
        }
      ]
    },
    {
      "cell_type": "code",
      "source": [
        "print(bias_df.loc[bias_df['site_name'] == 'The Atlantic'])"
      ],
      "metadata": {
        "colab": {
          "base_uri": "https://localhost:8080/"
        },
        "id": "YSmlgEAelAJ7",
        "outputId": "afa923e9-fa8b-43c1-abcb-92c6440b56d5"
      },
      "execution_count": 28,
      "outputs": [
        {
          "output_type": "stream",
          "name": "stdout",
          "text": [
            "        site_name  bias\n",
            "333  The Atlantic   1.0\n"
          ]
        }
      ]
    },
    {
      "cell_type": "code",
      "source": [
        "print(bias_df.iloc[333,0])\n",
        "bias_df.iloc[333,0] = 'Atlantic'\n",
        "print(bias_df.iloc[333,0])"
      ],
      "metadata": {
        "colab": {
          "base_uri": "https://localhost:8080/"
        },
        "id": "Bv3dqMqjk9vi",
        "outputId": "9467d337-056f-4174-90d5-c2733a4abd06"
      },
      "execution_count": 29,
      "outputs": [
        {
          "output_type": "stream",
          "name": "stdout",
          "text": [
            "The Atlantic\n",
            "Atlantic\n"
          ]
        }
      ]
    },
    {
      "cell_type": "code",
      "source": [
        "temp = [x for x in bias_sources if re.search('Buzzfeed', x)]\n",
        "print(temp)"
      ],
      "metadata": {
        "colab": {
          "base_uri": "https://localhost:8080/"
        },
        "id": "0I4WkMMakpaN",
        "outputId": "3d5f824c-39f0-40a7-881b-205c210706ac"
      },
      "execution_count": 30,
      "outputs": [
        {
          "output_type": "stream",
          "name": "stdout",
          "text": [
            "['Buzzfeed']\n"
          ]
        }
      ]
    },
    {
      "cell_type": "code",
      "source": [
        "print(bias_df.loc[bias_df['site_name'] == 'Buzzfeed'])"
      ],
      "metadata": {
        "colab": {
          "base_uri": "https://localhost:8080/"
        },
        "id": "VpeJQfR4lLUH",
        "outputId": "c47aa460-5f02-468e-efa2-07f3fa533195"
      },
      "execution_count": 31,
      "outputs": [
        {
          "output_type": "stream",
          "name": "stdout",
          "text": [
            "    site_name  bias\n",
            "359  Buzzfeed   1.0\n"
          ]
        }
      ]
    },
    {
      "cell_type": "code",
      "source": [
        "bias_df.iloc[359,0] = 'Buzzfeed News'\n",
        "print(bias_df.iloc[359])"
      ],
      "metadata": {
        "colab": {
          "base_uri": "https://localhost:8080/"
        },
        "id": "T6QM0XvjlNnR",
        "outputId": "7d3e42ea-00a4-4c26-e56f-10c2c7cd34ee"
      },
      "execution_count": 32,
      "outputs": [
        {
          "output_type": "stream",
          "name": "stdout",
          "text": [
            "site_name    Buzzfeed News\n",
            "bias                   1.0\n",
            "Name: 359, dtype: object\n"
          ]
        }
      ]
    },
    {
      "cell_type": "code",
      "source": [
        "temp = [x for x in bias_sources if re.search('Guardian', x)]\n",
        "print(temp)"
      ],
      "metadata": {
        "colab": {
          "base_uri": "https://localhost:8080/"
        },
        "id": "JHaBuXCXkp-M",
        "outputId": "2bbe54cb-74ac-4333-8f6e-24bbb260c32b"
      },
      "execution_count": 33,
      "outputs": [
        {
          "output_type": "stream",
          "name": "stdout",
          "text": [
            "['Democracy Guardian', 'Guardian Liberty Voice', 'Guardians of Democracy', 'The Guardian']\n"
          ]
        }
      ]
    },
    {
      "cell_type": "code",
      "source": [
        "print(bias_df.loc[bias_df['site_name'] == 'The Guardian'])"
      ],
      "metadata": {
        "colab": {
          "base_uri": "https://localhost:8080/"
        },
        "id": "JJyGHNUFlQiD",
        "outputId": "ceeb9548-459a-463a-b0d7-33e8c540ab32"
      },
      "execution_count": 34,
      "outputs": [
        {
          "output_type": "stream",
          "name": "stdout",
          "text": [
            "        site_name  bias\n",
            "668  The Guardian   1.0\n"
          ]
        }
      ]
    },
    {
      "cell_type": "code",
      "source": [
        "print(bias_df.iloc[668,0])\n",
        "bias_df.iloc[668,0] = 'Guardian'\n",
        "print(bias_df.iloc[668,0])"
      ],
      "metadata": {
        "colab": {
          "base_uri": "https://localhost:8080/"
        },
        "id": "p5m5BmxYlU3t",
        "outputId": "fc545c47-fbae-4a1e-d339-8efcda529a53"
      },
      "execution_count": 35,
      "outputs": [
        {
          "output_type": "stream",
          "name": "stdout",
          "text": [
            "The Guardian\n",
            "Guardian\n"
          ]
        }
      ]
    },
    {
      "cell_type": "code",
      "source": [
        "temp = [x for x in bias_sources if re.search('NPR', x)]\n",
        "print(temp)"
      ],
      "metadata": {
        "colab": {
          "base_uri": "https://localhost:8080/"
        },
        "id": "3cOgB2EAkqZO",
        "outputId": "0bf8fd91-7c06-4501-f6c3-42f7359ffcce"
      },
      "execution_count": 36,
      "outputs": [
        {
          "output_type": "stream",
          "name": "stdout",
          "text": [
            "['KUOW NPR', 'NPR (National Public Radio)']\n"
          ]
        }
      ]
    },
    {
      "cell_type": "code",
      "source": [
        "print(bias_df.loc[bias_df['site_name'] == 'NPR (National Public Radio)'])"
      ],
      "metadata": {
        "colab": {
          "base_uri": "https://localhost:8080/"
        },
        "id": "VLEEXb9nlRZE",
        "outputId": "0ef9c256-82fc-48a3-a4cd-18b09e90320f"
      },
      "execution_count": 37,
      "outputs": [
        {
          "output_type": "stream",
          "name": "stdout",
          "text": [
            "                       site_name  bias\n",
            "564  NPR (National Public Radio)   1.0\n"
          ]
        }
      ]
    },
    {
      "cell_type": "code",
      "source": [
        "print(bias_df.iloc[564,0])\n",
        "bias_df.iloc[564,0] = 'NPR'\n",
        "print(bias_df.iloc[564,0])"
      ],
      "metadata": {
        "colab": {
          "base_uri": "https://localhost:8080/"
        },
        "id": "YEvfbgyClXvx",
        "outputId": "29f19809-4eed-4324-d441-40697bf33fd4"
      },
      "execution_count": 38,
      "outputs": [
        {
          "output_type": "stream",
          "name": "stdout",
          "text": [
            "NPR (National Public Radio)\n",
            "NPR\n"
          ]
        }
      ]
    },
    {
      "cell_type": "code",
      "source": [
        "temp = [x for x in bias_sources if re.search('Breitbart', x)]\n",
        "print(temp)"
      ],
      "metadata": {
        "colab": {
          "base_uri": "https://localhost:8080/"
        },
        "id": "ohqsg_17jiEh",
        "outputId": "b8347266-0d60-4e66-99db-89014fc3376b"
      },
      "execution_count": 39,
      "outputs": [
        {
          "output_type": "stream",
          "name": "stdout",
          "text": [
            "['Breitbart Unmasked']\n"
          ]
        }
      ]
    },
    {
      "cell_type": "code",
      "source": [
        "# Breitbart is not included in the bias dataset.\n",
        "# We used background knowledge to determine that Breitbart is a right-leaning source,\n",
        "# and added it manually.\n",
        "bias_df.loc[len(bias_df.index)] = ['Breitbart', 0.0]"
      ],
      "metadata": {
        "id": "D0Wa3uZ8mexT"
      },
      "execution_count": 40,
      "outputs": []
    },
    {
      "cell_type": "code",
      "source": [
        "# check that it was added correctly\n",
        "bias_df.loc[len(bias_df.index) - 1]"
      ],
      "metadata": {
        "colab": {
          "base_uri": "https://localhost:8080/"
        },
        "id": "Q8KTYhSDmhA4",
        "outputId": "1ea7d377-ffd2-49a1-9fbd-740bef8788ef"
      },
      "execution_count": 41,
      "outputs": [
        {
          "output_type": "execute_result",
          "data": {
            "text/plain": [
              "site_name    Breitbart\n",
              "bias               0.0\n",
              "Name: 1604, dtype: object"
            ]
          },
          "metadata": {},
          "execution_count": 41
        }
      ]
    },
    {
      "cell_type": "code",
      "source": [
        "bias_df"
      ],
      "metadata": {
        "colab": {
          "base_uri": "https://localhost:8080/",
          "height": 423
        },
        "id": "VAuRZSPynVso",
        "outputId": "5dddaf09-ece6-47d8-e6c7-bae10075ac4b"
      },
      "execution_count": 42,
      "outputs": [
        {
          "output_type": "execute_result",
          "data": {
            "text/plain": [
              "                             site_name  bias\n",
              "0                               Act.TV   1.0\n",
              "1                       Addicting Info   1.0\n",
              "2                             Advocate   1.0\n",
              "3                       Akkadian Times   1.0\n",
              "4           Alliance for Justice (AFJ)   1.0\n",
              "...                                ...   ...\n",
              "1600                     World Tribune   0.0\n",
              "1601                 YellowHammer News   0.0\n",
              "1602  Young America’s Foundation (YAF)   0.0\n",
              "1603               Young Conservatives   0.0\n",
              "1604                         Breitbart   0.0\n",
              "\n",
              "[1605 rows x 2 columns]"
            ],
            "text/html": [
              "\n",
              "  <div id=\"df-9fcc57d7-6812-4986-84a0-c96515007071\">\n",
              "    <div class=\"colab-df-container\">\n",
              "      <div>\n",
              "<style scoped>\n",
              "    .dataframe tbody tr th:only-of-type {\n",
              "        vertical-align: middle;\n",
              "    }\n",
              "\n",
              "    .dataframe tbody tr th {\n",
              "        vertical-align: top;\n",
              "    }\n",
              "\n",
              "    .dataframe thead th {\n",
              "        text-align: right;\n",
              "    }\n",
              "</style>\n",
              "<table border=\"1\" class=\"dataframe\">\n",
              "  <thead>\n",
              "    <tr style=\"text-align: right;\">\n",
              "      <th></th>\n",
              "      <th>site_name</th>\n",
              "      <th>bias</th>\n",
              "    </tr>\n",
              "  </thead>\n",
              "  <tbody>\n",
              "    <tr>\n",
              "      <th>0</th>\n",
              "      <td>Act.TV</td>\n",
              "      <td>1.0</td>\n",
              "    </tr>\n",
              "    <tr>\n",
              "      <th>1</th>\n",
              "      <td>Addicting Info</td>\n",
              "      <td>1.0</td>\n",
              "    </tr>\n",
              "    <tr>\n",
              "      <th>2</th>\n",
              "      <td>Advocate</td>\n",
              "      <td>1.0</td>\n",
              "    </tr>\n",
              "    <tr>\n",
              "      <th>3</th>\n",
              "      <td>Akkadian Times</td>\n",
              "      <td>1.0</td>\n",
              "    </tr>\n",
              "    <tr>\n",
              "      <th>4</th>\n",
              "      <td>Alliance for Justice (AFJ)</td>\n",
              "      <td>1.0</td>\n",
              "    </tr>\n",
              "    <tr>\n",
              "      <th>...</th>\n",
              "      <td>...</td>\n",
              "      <td>...</td>\n",
              "    </tr>\n",
              "    <tr>\n",
              "      <th>1600</th>\n",
              "      <td>World Tribune</td>\n",
              "      <td>0.0</td>\n",
              "    </tr>\n",
              "    <tr>\n",
              "      <th>1601</th>\n",
              "      <td>YellowHammer News</td>\n",
              "      <td>0.0</td>\n",
              "    </tr>\n",
              "    <tr>\n",
              "      <th>1602</th>\n",
              "      <td>Young America’s Foundation (YAF)</td>\n",
              "      <td>0.0</td>\n",
              "    </tr>\n",
              "    <tr>\n",
              "      <th>1603</th>\n",
              "      <td>Young Conservatives</td>\n",
              "      <td>0.0</td>\n",
              "    </tr>\n",
              "    <tr>\n",
              "      <th>1604</th>\n",
              "      <td>Breitbart</td>\n",
              "      <td>0.0</td>\n",
              "    </tr>\n",
              "  </tbody>\n",
              "</table>\n",
              "<p>1605 rows × 2 columns</p>\n",
              "</div>\n",
              "      <button class=\"colab-df-convert\" onclick=\"convertToInteractive('df-9fcc57d7-6812-4986-84a0-c96515007071')\"\n",
              "              title=\"Convert this dataframe to an interactive table.\"\n",
              "              style=\"display:none;\">\n",
              "        \n",
              "  <svg xmlns=\"http://www.w3.org/2000/svg\" height=\"24px\"viewBox=\"0 0 24 24\"\n",
              "       width=\"24px\">\n",
              "    <path d=\"M0 0h24v24H0V0z\" fill=\"none\"/>\n",
              "    <path d=\"M18.56 5.44l.94 2.06.94-2.06 2.06-.94-2.06-.94-.94-2.06-.94 2.06-2.06.94zm-11 1L8.5 8.5l.94-2.06 2.06-.94-2.06-.94L8.5 2.5l-.94 2.06-2.06.94zm10 10l.94 2.06.94-2.06 2.06-.94-2.06-.94-.94-2.06-.94 2.06-2.06.94z\"/><path d=\"M17.41 7.96l-1.37-1.37c-.4-.4-.92-.59-1.43-.59-.52 0-1.04.2-1.43.59L10.3 9.45l-7.72 7.72c-.78.78-.78 2.05 0 2.83L4 21.41c.39.39.9.59 1.41.59.51 0 1.02-.2 1.41-.59l7.78-7.78 2.81-2.81c.8-.78.8-2.07 0-2.86zM5.41 20L4 18.59l7.72-7.72 1.47 1.35L5.41 20z\"/>\n",
              "  </svg>\n",
              "      </button>\n",
              "      \n",
              "  <style>\n",
              "    .colab-df-container {\n",
              "      display:flex;\n",
              "      flex-wrap:wrap;\n",
              "      gap: 12px;\n",
              "    }\n",
              "\n",
              "    .colab-df-convert {\n",
              "      background-color: #E8F0FE;\n",
              "      border: none;\n",
              "      border-radius: 50%;\n",
              "      cursor: pointer;\n",
              "      display: none;\n",
              "      fill: #1967D2;\n",
              "      height: 32px;\n",
              "      padding: 0 0 0 0;\n",
              "      width: 32px;\n",
              "    }\n",
              "\n",
              "    .colab-df-convert:hover {\n",
              "      background-color: #E2EBFA;\n",
              "      box-shadow: 0px 1px 2px rgba(60, 64, 67, 0.3), 0px 1px 3px 1px rgba(60, 64, 67, 0.15);\n",
              "      fill: #174EA6;\n",
              "    }\n",
              "\n",
              "    [theme=dark] .colab-df-convert {\n",
              "      background-color: #3B4455;\n",
              "      fill: #D2E3FC;\n",
              "    }\n",
              "\n",
              "    [theme=dark] .colab-df-convert:hover {\n",
              "      background-color: #434B5C;\n",
              "      box-shadow: 0px 1px 3px 1px rgba(0, 0, 0, 0.15);\n",
              "      filter: drop-shadow(0px 1px 2px rgba(0, 0, 0, 0.3));\n",
              "      fill: #FFFFFF;\n",
              "    }\n",
              "  </style>\n",
              "\n",
              "      <script>\n",
              "        const buttonEl =\n",
              "          document.querySelector('#df-9fcc57d7-6812-4986-84a0-c96515007071 button.colab-df-convert');\n",
              "        buttonEl.style.display =\n",
              "          google.colab.kernel.accessAllowed ? 'block' : 'none';\n",
              "\n",
              "        async function convertToInteractive(key) {\n",
              "          const element = document.querySelector('#df-9fcc57d7-6812-4986-84a0-c96515007071');\n",
              "          const dataTable =\n",
              "            await google.colab.kernel.invokeFunction('convertToInteractive',\n",
              "                                                     [key], {});\n",
              "          if (!dataTable) return;\n",
              "\n",
              "          const docLinkHtml = 'Like what you see? Visit the ' +\n",
              "            '<a target=\"_blank\" href=https://colab.research.google.com/notebooks/data_table.ipynb>data table notebook</a>'\n",
              "            + ' to learn more about interactive tables.';\n",
              "          element.innerHTML = '';\n",
              "          dataTable['output_type'] = 'display_data';\n",
              "          await google.colab.output.renderOutput(dataTable, element);\n",
              "          const docLink = document.createElement('div');\n",
              "          docLink.innerHTML = docLinkHtml;\n",
              "          element.appendChild(docLink);\n",
              "        }\n",
              "      </script>\n",
              "    </div>\n",
              "  </div>\n",
              "  "
            ]
          },
          "metadata": {},
          "execution_count": 42
        }
      ]
    },
    {
      "cell_type": "markdown",
      "source": [
        "# Connect bias data to article data"
      ],
      "metadata": {
        "id": "lT4ye52rjIeK"
      }
    },
    {
      "cell_type": "code",
      "source": [
        "# Create a series mapping every publication in the article data\n",
        "# to its corresponding bias from the bias data\n",
        "# Stack Overflow was used for this; link has been lost\n",
        "bias_dict = dict(zip(bias_df['site_name'], bias_df['bias']))\n",
        "leftness_df = data_df['publication'].map( dict( bias_dict ) )"
      ],
      "metadata": {
        "id": "gU4aVtL7myJn"
      },
      "execution_count": 43,
      "outputs": []
    },
    {
      "cell_type": "code",
      "source": [
        "leftness_df"
      ],
      "metadata": {
        "colab": {
          "base_uri": "https://localhost:8080/"
        },
        "id": "MgPdSBdBnbE4",
        "outputId": "c8c1e79a-2381-40bd-c004-9296b2f33b29"
      },
      "execution_count": 44,
      "outputs": [
        {
          "output_type": "execute_result",
          "data": {
            "text/plain": [
              "2671      1.0\n",
              "2679      1.0\n",
              "2689      1.0\n",
              "2691      1.0\n",
              "2710      1.0\n",
              "         ... \n",
              "142046    1.0\n",
              "142047    1.0\n",
              "142048    1.0\n",
              "142055    1.0\n",
              "142058    1.0\n",
              "Name: publication, Length: 7985, dtype: float64"
            ]
          },
          "metadata": {},
          "execution_count": 44
        }
      ]
    },
    {
      "cell_type": "code",
      "source": [
        "# Rename the column \"publication\" to \"leftness\" in leftness_df\n",
        "print(leftness_df.name)\n",
        "leftness_df.name = \"leftness\"\n",
        "print(leftness_df.name)"
      ],
      "metadata": {
        "colab": {
          "base_uri": "https://localhost:8080/"
        },
        "id": "aBvXBy3zoGw-",
        "outputId": "2d040bbb-8682-413c-9d68-4e3dfcf4e576"
      },
      "execution_count": 45,
      "outputs": [
        {
          "output_type": "stream",
          "name": "stdout",
          "text": [
            "publication\n",
            "leftness\n"
          ]
        }
      ]
    },
    {
      "cell_type": "code",
      "source": [
        "# Add 'leftness' column to new df\n",
        "new_df = nov_df.join(leftness_df)"
      ],
      "metadata": {
        "id": "BNESzgFlomAn"
      },
      "execution_count": 46,
      "outputs": []
    },
    {
      "cell_type": "code",
      "source": [
        "new_df.head()"
      ],
      "metadata": {
        "colab": {
          "base_uri": "https://localhost:8080/",
          "height": 206
        },
        "id": "BgqK9ev3pGDv",
        "outputId": "d721c8ed-4010-478b-b308-f393a853dcec"
      },
      "execution_count": 47,
      "outputs": [
        {
          "output_type": "execute_result",
          "data": {
            "text/plain": [
              "         publication                                            content  \\\n",
              "2671  New York Times  BRASÍLIA  —   They were idealists, united in t...   \n",
              "2679  New York Times  A   official in the Los Angeles County Sheriff...   \n",
              "2689  New York Times  A couple of years ago, Paul Gatling, a retired...   \n",
              "2691  New York Times  INDIANAPOLIS  —   Less than a month ago, Senat...   \n",
              "2710  New York Times  By seizing the Republican presidential nominat...   \n",
              "\n",
              "      leftness  \n",
              "2671       1.0  \n",
              "2679       1.0  \n",
              "2689       1.0  \n",
              "2691       1.0  \n",
              "2710       1.0  "
            ],
            "text/html": [
              "\n",
              "  <div id=\"df-5d96da4c-3f7a-4890-bbb1-cd9c19fe71b1\">\n",
              "    <div class=\"colab-df-container\">\n",
              "      <div>\n",
              "<style scoped>\n",
              "    .dataframe tbody tr th:only-of-type {\n",
              "        vertical-align: middle;\n",
              "    }\n",
              "\n",
              "    .dataframe tbody tr th {\n",
              "        vertical-align: top;\n",
              "    }\n",
              "\n",
              "    .dataframe thead th {\n",
              "        text-align: right;\n",
              "    }\n",
              "</style>\n",
              "<table border=\"1\" class=\"dataframe\">\n",
              "  <thead>\n",
              "    <tr style=\"text-align: right;\">\n",
              "      <th></th>\n",
              "      <th>publication</th>\n",
              "      <th>content</th>\n",
              "      <th>leftness</th>\n",
              "    </tr>\n",
              "  </thead>\n",
              "  <tbody>\n",
              "    <tr>\n",
              "      <th>2671</th>\n",
              "      <td>New York Times</td>\n",
              "      <td>BRASÍLIA  —   They were idealists, united in t...</td>\n",
              "      <td>1.0</td>\n",
              "    </tr>\n",
              "    <tr>\n",
              "      <th>2679</th>\n",
              "      <td>New York Times</td>\n",
              "      <td>A   official in the Los Angeles County Sheriff...</td>\n",
              "      <td>1.0</td>\n",
              "    </tr>\n",
              "    <tr>\n",
              "      <th>2689</th>\n",
              "      <td>New York Times</td>\n",
              "      <td>A couple of years ago, Paul Gatling, a retired...</td>\n",
              "      <td>1.0</td>\n",
              "    </tr>\n",
              "    <tr>\n",
              "      <th>2691</th>\n",
              "      <td>New York Times</td>\n",
              "      <td>INDIANAPOLIS  —   Less than a month ago, Senat...</td>\n",
              "      <td>1.0</td>\n",
              "    </tr>\n",
              "    <tr>\n",
              "      <th>2710</th>\n",
              "      <td>New York Times</td>\n",
              "      <td>By seizing the Republican presidential nominat...</td>\n",
              "      <td>1.0</td>\n",
              "    </tr>\n",
              "  </tbody>\n",
              "</table>\n",
              "</div>\n",
              "      <button class=\"colab-df-convert\" onclick=\"convertToInteractive('df-5d96da4c-3f7a-4890-bbb1-cd9c19fe71b1')\"\n",
              "              title=\"Convert this dataframe to an interactive table.\"\n",
              "              style=\"display:none;\">\n",
              "        \n",
              "  <svg xmlns=\"http://www.w3.org/2000/svg\" height=\"24px\"viewBox=\"0 0 24 24\"\n",
              "       width=\"24px\">\n",
              "    <path d=\"M0 0h24v24H0V0z\" fill=\"none\"/>\n",
              "    <path d=\"M18.56 5.44l.94 2.06.94-2.06 2.06-.94-2.06-.94-.94-2.06-.94 2.06-2.06.94zm-11 1L8.5 8.5l.94-2.06 2.06-.94-2.06-.94L8.5 2.5l-.94 2.06-2.06.94zm10 10l.94 2.06.94-2.06 2.06-.94-2.06-.94-.94-2.06-.94 2.06-2.06.94z\"/><path d=\"M17.41 7.96l-1.37-1.37c-.4-.4-.92-.59-1.43-.59-.52 0-1.04.2-1.43.59L10.3 9.45l-7.72 7.72c-.78.78-.78 2.05 0 2.83L4 21.41c.39.39.9.59 1.41.59.51 0 1.02-.2 1.41-.59l7.78-7.78 2.81-2.81c.8-.78.8-2.07 0-2.86zM5.41 20L4 18.59l7.72-7.72 1.47 1.35L5.41 20z\"/>\n",
              "  </svg>\n",
              "      </button>\n",
              "      \n",
              "  <style>\n",
              "    .colab-df-container {\n",
              "      display:flex;\n",
              "      flex-wrap:wrap;\n",
              "      gap: 12px;\n",
              "    }\n",
              "\n",
              "    .colab-df-convert {\n",
              "      background-color: #E8F0FE;\n",
              "      border: none;\n",
              "      border-radius: 50%;\n",
              "      cursor: pointer;\n",
              "      display: none;\n",
              "      fill: #1967D2;\n",
              "      height: 32px;\n",
              "      padding: 0 0 0 0;\n",
              "      width: 32px;\n",
              "    }\n",
              "\n",
              "    .colab-df-convert:hover {\n",
              "      background-color: #E2EBFA;\n",
              "      box-shadow: 0px 1px 2px rgba(60, 64, 67, 0.3), 0px 1px 3px 1px rgba(60, 64, 67, 0.15);\n",
              "      fill: #174EA6;\n",
              "    }\n",
              "\n",
              "    [theme=dark] .colab-df-convert {\n",
              "      background-color: #3B4455;\n",
              "      fill: #D2E3FC;\n",
              "    }\n",
              "\n",
              "    [theme=dark] .colab-df-convert:hover {\n",
              "      background-color: #434B5C;\n",
              "      box-shadow: 0px 1px 3px 1px rgba(0, 0, 0, 0.15);\n",
              "      filter: drop-shadow(0px 1px 2px rgba(0, 0, 0, 0.3));\n",
              "      fill: #FFFFFF;\n",
              "    }\n",
              "  </style>\n",
              "\n",
              "      <script>\n",
              "        const buttonEl =\n",
              "          document.querySelector('#df-5d96da4c-3f7a-4890-bbb1-cd9c19fe71b1 button.colab-df-convert');\n",
              "        buttonEl.style.display =\n",
              "          google.colab.kernel.accessAllowed ? 'block' : 'none';\n",
              "\n",
              "        async function convertToInteractive(key) {\n",
              "          const element = document.querySelector('#df-5d96da4c-3f7a-4890-bbb1-cd9c19fe71b1');\n",
              "          const dataTable =\n",
              "            await google.colab.kernel.invokeFunction('convertToInteractive',\n",
              "                                                     [key], {});\n",
              "          if (!dataTable) return;\n",
              "\n",
              "          const docLinkHtml = 'Like what you see? Visit the ' +\n",
              "            '<a target=\"_blank\" href=https://colab.research.google.com/notebooks/data_table.ipynb>data table notebook</a>'\n",
              "            + ' to learn more about interactive tables.';\n",
              "          element.innerHTML = '';\n",
              "          dataTable['output_type'] = 'display_data';\n",
              "          await google.colab.output.renderOutput(dataTable, element);\n",
              "          const docLink = document.createElement('div');\n",
              "          docLink.innerHTML = docLinkHtml;\n",
              "          element.appendChild(docLink);\n",
              "        }\n",
              "      </script>\n",
              "    </div>\n",
              "  </div>\n",
              "  "
            ]
          },
          "metadata": {},
          "execution_count": 47
        }
      ]
    },
    {
      "cell_type": "code",
      "source": [
        "new_df.shape"
      ],
      "metadata": {
        "colab": {
          "base_uri": "https://localhost:8080/"
        },
        "id": "vB6BpOAKpWg5",
        "outputId": "9e27b005-1460-4159-b015-8531e37ee5b5"
      },
      "execution_count": 53,
      "outputs": [
        {
          "output_type": "execute_result",
          "data": {
            "text/plain": [
              "(7985, 3)"
            ]
          },
          "metadata": {},
          "execution_count": 53
        }
      ]
    },
    {
      "cell_type": "code",
      "source": [
        "right = len(new_df[new_df['leftness'] == 0])\n",
        "left = len(new_df[new_df['leftness'] == 1]) \n",
        "center = len(new_df[new_df['leftness'] == 0.5]) \n",
        "total = len(new_df)\n",
        "print('RIGHT:', right, \"is\", round(right / total * 100,2), \"%\")\n",
        "print('LEFT:', left, \"is\", round(left / total * 100,2), \"%\")\n",
        "print('CENTER:', center, \"is\", round(center / total * 100,2), \"%\")"
      ],
      "metadata": {
        "colab": {
          "base_uri": "https://localhost:8080/"
        },
        "id": "UQ6_fsl6pny7",
        "outputId": "10679522-e171-4a96-9d55-b2a94fe06544"
      },
      "execution_count": 49,
      "outputs": [
        {
          "output_type": "stream",
          "name": "stdout",
          "text": [
            "RIGHT: 2700 is 33.81 %\n",
            "LEFT: 4453 is 55.77 %\n",
            "CENTER: 832 is 10.42 %\n"
          ]
        }
      ]
    },
    {
      "cell_type": "code",
      "source": [
        "# https://stackoverflow.com/questions/45745085/python-pandas-how-to-remove-nan-and-inf-values\n",
        "clean_df = new_df.dropna(inplace=False)"
      ],
      "metadata": {
        "id": "77jkdUGjI5j6"
      },
      "execution_count": 54,
      "outputs": []
    },
    {
      "cell_type": "code",
      "source": [
        "clean_df.shape"
      ],
      "metadata": {
        "colab": {
          "base_uri": "https://localhost:8080/"
        },
        "id": "ez8aTvmrJGKp",
        "outputId": "e483b6d4-2209-4e7a-a8a3-493160157ec7"
      },
      "execution_count": 55,
      "outputs": [
        {
          "output_type": "execute_result",
          "data": {
            "text/plain": [
              "(7985, 3)"
            ]
          },
          "metadata": {},
          "execution_count": 55
        }
      ]
    },
    {
      "cell_type": "code",
      "source": [
        "clean_df.to_csv('/content/drive/MyDrive/Schoolwork/Big Data Final/refactor/refactored_dataset.csv')"
      ],
      "metadata": {
        "id": "REZEto1LJJNM"
      },
      "execution_count": 56,
      "outputs": []
    }
  ]
}